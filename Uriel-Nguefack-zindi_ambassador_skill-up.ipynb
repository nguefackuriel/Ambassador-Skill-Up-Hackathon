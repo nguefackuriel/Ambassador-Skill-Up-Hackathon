{
  "metadata": {
    "kernelspec": {
      "display_name": "Python 3",
      "language": "python",
      "name": "python3"
    },
    "language_info": {
      "name": "python",
      "version": "3.10.10",
      "mimetype": "text/x-python",
      "codemirror_mode": {
        "name": "ipython",
        "version": 3
      },
      "pygments_lexer": "ipython3",
      "nbconvert_exporter": "python",
      "file_extension": ".py"
    },
    "colab": {
      "provenance": []
    }
  },
  "nbformat_minor": 5,
  "nbformat": 4,
  "cells": [
    {
      "cell_type": "markdown",
      "source": [
        "## Project structure"
      ],
      "metadata": {
        "id": "EpDIqQO8wJwU"
      },
      "id": "EpDIqQO8wJwU"
    },
    {
      "cell_type": "markdown",
      "source": [
        "├── data\\\n",
        "│   ├── metadata.csv\\\n",
        "│   ├── SampleSubmission.csv\\\n",
        "│   ├── Test.csv\\\n",
        "│   ├── Train.csv\\\n",
        "│   └── VariablesDefinition.txt\\\n",
        "├── logs\\\n",
        "├── models\\\n",
        "├── src\\\n",
        "│   └── StarterNotebook.ipynb\\\n",
        "└── submissions\n"
      ],
      "metadata": {
        "id": "6b2567C2wJwW"
      },
      "id": "6b2567C2wJwW"
    },
    {
      "cell_type": "markdown",
      "source": [
        "## Libs"
      ],
      "metadata": {
        "id": "zqAv3HcuwJwX"
      },
      "id": "zqAv3HcuwJwX"
    },
    {
      "cell_type": "code",
      "source": [
        "import os\n",
        "import ast\n",
        "import pandas as pd\n",
        "import numpy as np\n",
        "from matplotlib import pyplot\n",
        "import matplotlib.patches as mpatches\n",
        "import seaborn as sn\n",
        "from tqdm.std import tqdm\n",
        "from sklearn.model_selection import train_test_split\n",
        "from sklearn.preprocessing import StandardScaler\n",
        "import tensorflow as tf\n",
        "from tensorflow import keras\n",
        "\n",
        "import logging\n",
        "logging.basicConfig(level='INFO')\n",
        "\n",
        "\n",
        "logging.info(msg=f\"Using tensorflow version : {tf.__version__}\")"
      ],
      "metadata": {
        "tags": [],
        "execution": {
          "iopub.status.busy": "2023-05-30T07:58:05.240975Z",
          "iopub.execute_input": "2023-05-30T07:58:05.242843Z",
          "iopub.status.idle": "2023-05-30T07:58:15.171629Z",
          "shell.execute_reply.started": "2023-05-30T07:58:05.242815Z",
          "shell.execute_reply": "2023-05-30T07:58:15.170704Z"
        },
        "trusted": true,
        "id": "bXJjihlqwJwX"
      },
      "execution_count": 39,
      "outputs": [],
      "id": "bXJjihlqwJwX"
    },
    {
      "cell_type": "code",
      "source": [
        "import warnings\n",
        "warnings.filterwarnings(action=\"ignore\")"
      ],
      "metadata": {
        "tags": [],
        "execution": {
          "iopub.status.busy": "2023-05-30T07:58:20.615036Z",
          "iopub.execute_input": "2023-05-30T07:58:20.615760Z",
          "iopub.status.idle": "2023-05-30T07:58:20.620190Z",
          "shell.execute_reply.started": "2023-05-30T07:58:20.615726Z",
          "shell.execute_reply": "2023-05-30T07:58:20.619140Z"
        },
        "trusted": true,
        "id": "_d6JTN6ewJwY"
      },
      "execution_count": 40,
      "outputs": [],
      "id": "_d6JTN6ewJwY"
    },
    {
      "cell_type": "code",
      "source": [
        "np.random.seed(42)"
      ],
      "metadata": {
        "id": "EfYbDFaq0jrj"
      },
      "id": "EfYbDFaq0jrj",
      "execution_count": 41,
      "outputs": []
    },
    {
      "cell_type": "markdown",
      "source": [
        "## Config & Helpers funcs"
      ],
      "metadata": {
        "id": "IiNW4z-CwJwY"
      },
      "id": "IiNW4z-CwJwY"
    },
    {
      "cell_type": "code",
      "source": [
        "from google.colab import drive\n",
        "drive.mount('/content/drive')"
      ],
      "metadata": {
        "colab": {
          "base_uri": "https://localhost:8080/"
        },
        "id": "EzGpSVgvwSqZ",
        "outputId": "7eebbd41-7f6e-4b5a-8854-feec492b4af4"
      },
      "id": "EzGpSVgvwSqZ",
      "execution_count": 3,
      "outputs": [
        {
          "output_type": "stream",
          "name": "stdout",
          "text": [
            "Mounted at /content/drive\n"
          ]
        }
      ]
    },
    {
      "cell_type": "code",
      "source": [
        "class Config:\n",
        "    data_dir = '/content/drive/MyDrive/ambassador-skill-up-hackathon/'\n",
        "    working_dir = 'src/'#'../src/'\n",
        "    models_dir = 'models/'#'../models/'\n",
        "    submissions_dir = 'submissions/'#'../submissions'\n",
        "\n",
        "\n",
        "def create_target(df:pd.DataFrame, window:int=2):\n",
        "    \n",
        "    \"\"\"\n",
        "    Compute a target column : this column will be the answer to the following question\n",
        "    (Did the company receive a payment after the term date + (window * term) days) and (total amount paid so far grater that 60% of contract value) ? \n",
        "                                        \n",
        "                        ********************************************************************\n",
        "                                                    DISCLAIMER\n",
        "                        ********************************************************************\n",
        "                                        \n",
        "        This target may not be accurate...anyway, you should create your own target to predict contract status \n",
        "                    since your end model is not evaluated on this task (predicting contract status)\n",
        "\n",
        "                        ********************************************************************\n",
        "                                                    DISCLAIMER\n",
        "                        ********************************************************************\n",
        "\n",
        "        Parameters\n",
        "        ----------\n",
        "            df : pandas dataframe - like\n",
        "                dataframe to add targets to. (should contain the payments history)\n",
        "                \n",
        "            window : int\n",
        "                number of repeated term(s) to look at\n",
        "                \n",
        "        Returns\n",
        "        -------\n",
        "        \n",
        "            df : pandas dataframe - like\n",
        "                dataframe with a 'Target' column\n",
        "    \"\"\"\n",
        "    try:\n",
        "        df = df.copy()\n",
        "        \n",
        "        df[\"ExpectedTermDate\"] = pd.to_datetime(df[\"ExpectedTermDate\"]) + pd.to_timedelta(pd.np.ceil(df.Term*window), unit=\"D\")\n",
        "        df[\"LastPaymentDate\"] = pd.to_datetime(df[\"LastPaymentDate\"]).dt.tz_localize(None)\n",
        "        \n",
        "        targets = []\n",
        "        \n",
        "        for r in df.iterrows():\n",
        "            r = r[1]\n",
        "            target = ((100 * sum(ast.literal_eval(r.PaymentsHistory) + r[-6:].values.tolist()) // r.TotalContractValue)>=60.) and (r.LastPaymentDate < r.ExpectedTermDate)\n",
        "            targets.append(float(target))\n",
        "            \n",
        "        df[\"Target\"] = targets\n",
        "        \n",
        "        del targets\n",
        "    \n",
        "        return df\n",
        "    \n",
        "    except Exception as ex:\n",
        "        logging.error(msg=f'{ex}')\n",
        "        \n",
        "        return None\n",
        "\n",
        "\n",
        "def get_viz(df:pd.DataFrame):\n",
        "    \"\"\"\n",
        "        Make a simple Visialization of some variables\n",
        "        \n",
        "    Parameters\n",
        "    ----------\n",
        "        df : pandas dataframe - like\n",
        "            metadata dataframe\n",
        "            \n",
        "    Returns\n",
        "    -------\n",
        "        fig : Matplotlib Figure - like\n",
        "    \"\"\"\n",
        "    \n",
        "    fig, axes = pyplot.subplots(figsize=(25, 15), nrows=2, ncols=3)\n",
        "\n",
        "    # class distrib\n",
        "    axes[0, 0].set_title(label='Good/Bad payer countplot')\n",
        "\n",
        "    sn.countplot(x=df.Target,ax=axes[0, 0])\n",
        "\n",
        "    vals = df.Target.value_counts().values.tolist()\n",
        "    vals.reverse()\n",
        "    for a,p in zip(vals, axes[0, 0].patches):\n",
        "        axes[0, 0].annotate(\n",
        "            xy=(p.get_x() + p.get_width() / 2., p.get_height()), \n",
        "            text=a,\n",
        "            ha='center', \n",
        "            va='center', \n",
        "            fontsize=13, \n",
        "            color='black', \n",
        "            xytext=(1, 5),\n",
        "            textcoords='offset points'\n",
        "        )\n",
        "\n",
        "    bad_patch = mpatches.Patch(color='#1f77b4', label='Bad')\n",
        "    good_patch = mpatches.Patch(color='orange', label='Good')\n",
        "\n",
        "    axes[0, 0].legend(handles=[bad_patch, good_patch])\n",
        "\n",
        "    # regions distrib\n",
        "    axes[0, 1].set_title(label='Region distribution')\n",
        "    sn.countplot(x=df.Region, ax=axes[0, 1])\n",
        "    axes[0, 1].set_xticklabels(labels=axes[0, 1].get_xticklabels(), rotation=30)\n",
        "\n",
        "    # ages distrib\n",
        "    axes[0, 2].set_title(label='Ages distribution')\n",
        "    sn.histplot(x=df.Age, ax=axes[0, 2])\n",
        "\n",
        "    # Gender distrib\n",
        "    axes[1, 0].set_title(label='Gender distribution')\n",
        "    sn.countplot(x=df.MainApplicantGender, ax=axes[1, 0])\n",
        "\n",
        "    #  Town distrib\n",
        "    axes[1, 1].set_title(label='Town distribution')\n",
        "    sn.countplot(x=df.Town, ax=axes[1, 1])\n",
        "    axes[1, 1].set_xticklabels(labels=axes[1, 1].get_xticklabels(), rotation=90)\n",
        "\n",
        "    # Customer ocupation distrib\n",
        "    axes[1, 2].set_title(label='Occupation distribution')\n",
        "    sn.countplot(x=df.Occupation, ax=axes[1, 2])\n",
        "    axes[1, 2].set_xticklabels(labels=axes[1, 2].get_xticklabels(), rotation=90)\n",
        "\n",
        "    pyplot.tight_layout()\n",
        "    pyplot.show()\n",
        "    \n",
        "    return fig\n",
        "\n",
        "\n",
        "\n",
        "def preprocess_data(df:pd.DataFrame, skip_cols:list=None)->pd.DataFrame:\n",
        "    \"\"\"\n",
        "        Preprocessing pipeline for AFC hackathon datasets\n",
        "        \n",
        "        Parameters\n",
        "        ----------\n",
        "            df : Pandas dataframe\n",
        "                Dataframe to be preprocessed.\n",
        "                \n",
        "            skip_cols : list\n",
        "                list of columns to skip during preprocessing\n",
        "                \n",
        "        Returns\n",
        "        -------\n",
        "            df : Pandas dataframe\n",
        "                Preprocessed dataframe.\n",
        "        \n",
        "        Examples\n",
        "        --------\n",
        "        >>> dataset = pd.read_csv(filepath_or_buffer='<path_to_data.csv>') \n",
        "        >>> new_df = preprocess_data(df=dataset) \n",
        "        \n",
        "    \"\"\"\n",
        "    \n",
        "    df = df.copy(deep=True)\n",
        "    cols = [col for col in df.columns[1:] if col not in skip_cols]\n",
        "    cat_cols = [col for col in cols if df[col].dtype == 'O' and 'Date' not in col]\n",
        "    date_cols = [col for col in cols if 'Date' in col]\n",
        "    \n",
        "    # convert cat col to category type\n",
        "    # print(\"Categorical cols\", cat_cols)\n",
        "    for col in tqdm(cat_cols, desc='Processing categorical columns \\t'):\n",
        "        df[col] = df[col].astype('category')\n",
        "        \n",
        "    # print(\"Date cols\", date_cols)\n",
        "    # convert date col to datetime type\n",
        "    for col in tqdm(date_cols, desc='Processing datetime columns \\t'):\n",
        "        df[col] = pd.to_datetime(df[col]).dt.tz_localize(None)\n",
        "    \n",
        "    # fill missing values\n",
        "    df.UpsellDate.fillna(value='None', inplace=True)\n",
        "    df.Region.fillna(value=df.Region.mode()[0], inplace=True)\n",
        "    df.Age.fillna(value=round(df.Age.mean()), inplace=True)\n",
        "    \n",
        "    for col in cat_cols:            \n",
        "        try:\n",
        "            df[col] = df[col].cat.codes\n",
        "        except Exception as ex:\n",
        "            logging.error(msg=f\"Column issue ({col}) : {ex}\")\n",
        "\n",
        "        \n",
        "    return df\n",
        "\n",
        "\n",
        "def extract_features(df:pd.DataFrame)->pd.DataFrame:\n",
        "    df = df.copy()\n",
        "    df['RegisteredInLeapYear'] = df.RegistrationDate.dt.is_leap_year.astype('float')\n",
        "    df['RegisteredAtMonthStart'] = df.RegistrationDate.dt.is_month_start.astype('float')\n",
        "    df['RegisteredAtMonthEnd'] = df.RegistrationDate.dt.is_month_end.astype('float')\n",
        "    df['LastPaymentMonth'] = df.LastPaymentDate.dt.month\n",
        "    df['FirstPaymentMonth'] = df.FirstPaymentDate.dt.month\n",
        "    \n",
        "    return df.drop(columns=[\"TransactionDates\", \"PaymentsHistory\", \"m1\", \"m2\", \"m3\", \"m4\", \"m5\", \"m6\"], inplace=False)\n",
        "\n",
        "\n",
        "def pad_history(df:pd.DataFrame, max_len:int=41):\n",
        "    \n",
        "    df = df.copy()\n",
        "    \n",
        "    padded_payments = []\n",
        "    \n",
        "    for r in df.copy().iterrows():\n",
        "        r = r[1]\n",
        "        \n",
        "        if len(ast.literal_eval(r.PaymentsHistory)) > max_len:\n",
        "            padded_payments.append(ast.literal_eval(r.PaymentsHistory)[:max_len])\n",
        "            \n",
        "        else:\n",
        "            padding_len = abs(max_len - len(ast.literal_eval(r.PaymentsHistory)))\n",
        "            padded_payments.append(ast.literal_eval(r.PaymentsHistory) + padding_len*[0.])\n",
        "            \n",
        "    \n",
        "    df[\"PaymentsHistory\"] = padded_payments\n",
        "    \n",
        "    del padded_payments\n",
        "    \n",
        "    return df, max_len"
      ],
      "metadata": {
        "tags": [],
        "execution": {
          "iopub.status.busy": "2023-05-30T07:58:47.206972Z",
          "iopub.execute_input": "2023-05-30T07:58:47.207328Z",
          "iopub.status.idle": "2023-05-30T07:58:47.240821Z",
          "shell.execute_reply.started": "2023-05-30T07:58:47.207299Z",
          "shell.execute_reply": "2023-05-30T07:58:47.239864Z"
        },
        "trusted": true,
        "id": "Hs8t6fUXwJwZ"
      },
      "execution_count": 42,
      "outputs": [],
      "id": "Hs8t6fUXwJwZ"
    },
    {
      "cell_type": "markdown",
      "source": [
        "# Dataset\n",
        "---\n",
        "1. Load files\n",
        "2. Exploratory Data Analysis (EDA)\n",
        "3. Preprocess data\n",
        "4. Extract features\n",
        "4. Train/Test split"
      ],
      "metadata": {
        "id": "b6u3m_yZwJwa"
      },
      "id": "b6u3m_yZwJwa"
    },
    {
      "cell_type": "code",
      "source": [
        "train = pd.read_csv(filepath_or_buffer=os.path.join(Config.data_dir, \"Train.csv\"))\n",
        "metadata = pd.read_csv(filepath_or_buffer=os.path.join(Config.data_dir, \"metadata.csv\"))\n",
        "test = pd.read_csv(filepath_or_buffer=os.path.join(Config.data_dir, \"Test.csv\"))\n",
        "ss = pd.read_csv(filepath_or_buffer=os.path.join(Config.data_dir, \"SampleSubmission.csv\"))"
      ],
      "metadata": {
        "tags": [],
        "execution": {
          "iopub.status.busy": "2023-05-30T07:58:50.922701Z",
          "iopub.execute_input": "2023-05-30T07:58:50.923054Z",
          "iopub.status.idle": "2023-05-30T07:58:51.648390Z",
          "shell.execute_reply.started": "2023-05-30T07:58:50.923026Z",
          "shell.execute_reply": "2023-05-30T07:58:51.647477Z"
        },
        "trusted": true,
        "id": "q4ot6EaAwJwa"
      },
      "execution_count": 43,
      "outputs": [],
      "id": "q4ot6EaAwJwa"
    },
    {
      "cell_type": "markdown",
      "source": [
        "### EDA"
      ],
      "metadata": {
        "execution": {
          "iopub.execute_input": "2021-06-04T06:44:23.685607Z",
          "iopub.status.busy": "2021-06-04T06:44:23.685352Z",
          "iopub.status.idle": "2021-06-04T06:44:23.688805Z",
          "shell.execute_reply": "2021-06-04T06:44:23.688241Z",
          "shell.execute_reply.started": "2021-06-04T06:44:23.685554Z"
        },
        "id": "RN4tmYcpwJwb"
      },
      "id": "RN4tmYcpwJwb"
    },
    {
      "cell_type": "code",
      "source": [
        "train.info()"
      ],
      "metadata": {
        "tags": [],
        "execution": {
          "iopub.status.busy": "2023-05-30T07:58:53.705818Z",
          "iopub.execute_input": "2023-05-30T07:58:53.706167Z",
          "iopub.status.idle": "2023-05-30T07:58:53.755630Z",
          "shell.execute_reply.started": "2023-05-30T07:58:53.706140Z",
          "shell.execute_reply": "2023-05-30T07:58:53.754503Z"
        },
        "trusted": true,
        "colab": {
          "base_uri": "https://localhost:8080/"
        },
        "id": "AiRqm0vOwJwb",
        "outputId": "7c3c36d4-0169-44eb-fa99-3450d0b42a94"
      },
      "execution_count": 44,
      "outputs": [
        {
          "output_type": "stream",
          "name": "stdout",
          "text": [
            "<class 'pandas.core.frame.DataFrame'>\n",
            "RangeIndex: 28007 entries, 0 to 28006\n",
            "Data columns (total 9 columns):\n",
            " #   Column            Non-Null Count  Dtype  \n",
            "---  ------            --------------  -----  \n",
            " 0   ID                28007 non-null  object \n",
            " 1   TransactionDates  28007 non-null  object \n",
            " 2   PaymentsHistory   28007 non-null  object \n",
            " 3   m1                28007 non-null  float64\n",
            " 4   m2                28007 non-null  float64\n",
            " 5   m3                28007 non-null  float64\n",
            " 6   m4                28007 non-null  float64\n",
            " 7   m5                28007 non-null  float64\n",
            " 8   m6                28007 non-null  float64\n",
            "dtypes: float64(6), object(3)\n",
            "memory usage: 1.9+ MB\n"
          ]
        }
      ],
      "id": "AiRqm0vOwJwb"
    },
    {
      "cell_type": "code",
      "source": [
        "train.describe(datetime_is_numeric=True).transpose()"
      ],
      "metadata": {
        "tags": [],
        "execution": {
          "iopub.status.busy": "2023-05-30T07:58:55.590856Z",
          "iopub.execute_input": "2023-05-30T07:58:55.591221Z",
          "iopub.status.idle": "2023-05-30T07:58:55.636308Z",
          "shell.execute_reply.started": "2023-05-30T07:58:55.591191Z",
          "shell.execute_reply": "2023-05-30T07:58:55.635250Z"
        },
        "trusted": true,
        "colab": {
          "base_uri": "https://localhost:8080/",
          "height": 238
        },
        "id": "usHqu7f-wJwb",
        "outputId": "3f014591-a885-4e2f-e75b-d2ac07adc747"
      },
      "execution_count": 45,
      "outputs": [
        {
          "output_type": "execute_result",
          "data": {
            "text/plain": [
              "      count        mean          std  min    25%    50%     75%      max\n",
              "m1  28007.0  815.411683   686.130805  1.0  275.0  820.0  1200.0  33890.0\n",
              "m2  28007.0  807.101617   839.772177  1.0  250.0  800.0  1200.0  94044.0\n",
              "m3  28007.0  797.641161   696.809281  1.0  220.0  790.0  1200.0  32005.0\n",
              "m4  28007.0  815.011033   715.582046  1.0  230.0  815.0  1200.0  33403.0\n",
              "m5  28007.0  827.719463   796.379837  1.0  220.0  840.0  1205.0  64106.0\n",
              "m6  28007.0  692.115150  1416.301221  1.0  130.0  480.0   915.0  96814.0"
            ],
            "text/html": [
              "\n",
              "  <div id=\"df-fa9536d5-395a-4e62-b72f-9214bb8f72e5\">\n",
              "    <div class=\"colab-df-container\">\n",
              "      <div>\n",
              "<style scoped>\n",
              "    .dataframe tbody tr th:only-of-type {\n",
              "        vertical-align: middle;\n",
              "    }\n",
              "\n",
              "    .dataframe tbody tr th {\n",
              "        vertical-align: top;\n",
              "    }\n",
              "\n",
              "    .dataframe thead th {\n",
              "        text-align: right;\n",
              "    }\n",
              "</style>\n",
              "<table border=\"1\" class=\"dataframe\">\n",
              "  <thead>\n",
              "    <tr style=\"text-align: right;\">\n",
              "      <th></th>\n",
              "      <th>count</th>\n",
              "      <th>mean</th>\n",
              "      <th>std</th>\n",
              "      <th>min</th>\n",
              "      <th>25%</th>\n",
              "      <th>50%</th>\n",
              "      <th>75%</th>\n",
              "      <th>max</th>\n",
              "    </tr>\n",
              "  </thead>\n",
              "  <tbody>\n",
              "    <tr>\n",
              "      <th>m1</th>\n",
              "      <td>28007.0</td>\n",
              "      <td>815.411683</td>\n",
              "      <td>686.130805</td>\n",
              "      <td>1.0</td>\n",
              "      <td>275.0</td>\n",
              "      <td>820.0</td>\n",
              "      <td>1200.0</td>\n",
              "      <td>33890.0</td>\n",
              "    </tr>\n",
              "    <tr>\n",
              "      <th>m2</th>\n",
              "      <td>28007.0</td>\n",
              "      <td>807.101617</td>\n",
              "      <td>839.772177</td>\n",
              "      <td>1.0</td>\n",
              "      <td>250.0</td>\n",
              "      <td>800.0</td>\n",
              "      <td>1200.0</td>\n",
              "      <td>94044.0</td>\n",
              "    </tr>\n",
              "    <tr>\n",
              "      <th>m3</th>\n",
              "      <td>28007.0</td>\n",
              "      <td>797.641161</td>\n",
              "      <td>696.809281</td>\n",
              "      <td>1.0</td>\n",
              "      <td>220.0</td>\n",
              "      <td>790.0</td>\n",
              "      <td>1200.0</td>\n",
              "      <td>32005.0</td>\n",
              "    </tr>\n",
              "    <tr>\n",
              "      <th>m4</th>\n",
              "      <td>28007.0</td>\n",
              "      <td>815.011033</td>\n",
              "      <td>715.582046</td>\n",
              "      <td>1.0</td>\n",
              "      <td>230.0</td>\n",
              "      <td>815.0</td>\n",
              "      <td>1200.0</td>\n",
              "      <td>33403.0</td>\n",
              "    </tr>\n",
              "    <tr>\n",
              "      <th>m5</th>\n",
              "      <td>28007.0</td>\n",
              "      <td>827.719463</td>\n",
              "      <td>796.379837</td>\n",
              "      <td>1.0</td>\n",
              "      <td>220.0</td>\n",
              "      <td>840.0</td>\n",
              "      <td>1205.0</td>\n",
              "      <td>64106.0</td>\n",
              "    </tr>\n",
              "    <tr>\n",
              "      <th>m6</th>\n",
              "      <td>28007.0</td>\n",
              "      <td>692.115150</td>\n",
              "      <td>1416.301221</td>\n",
              "      <td>1.0</td>\n",
              "      <td>130.0</td>\n",
              "      <td>480.0</td>\n",
              "      <td>915.0</td>\n",
              "      <td>96814.0</td>\n",
              "    </tr>\n",
              "  </tbody>\n",
              "</table>\n",
              "</div>\n",
              "      <button class=\"colab-df-convert\" onclick=\"convertToInteractive('df-fa9536d5-395a-4e62-b72f-9214bb8f72e5')\"\n",
              "              title=\"Convert this dataframe to an interactive table.\"\n",
              "              style=\"display:none;\">\n",
              "        \n",
              "  <svg xmlns=\"http://www.w3.org/2000/svg\" height=\"24px\"viewBox=\"0 0 24 24\"\n",
              "       width=\"24px\">\n",
              "    <path d=\"M0 0h24v24H0V0z\" fill=\"none\"/>\n",
              "    <path d=\"M18.56 5.44l.94 2.06.94-2.06 2.06-.94-2.06-.94-.94-2.06-.94 2.06-2.06.94zm-11 1L8.5 8.5l.94-2.06 2.06-.94-2.06-.94L8.5 2.5l-.94 2.06-2.06.94zm10 10l.94 2.06.94-2.06 2.06-.94-2.06-.94-.94-2.06-.94 2.06-2.06.94z\"/><path d=\"M17.41 7.96l-1.37-1.37c-.4-.4-.92-.59-1.43-.59-.52 0-1.04.2-1.43.59L10.3 9.45l-7.72 7.72c-.78.78-.78 2.05 0 2.83L4 21.41c.39.39.9.59 1.41.59.51 0 1.02-.2 1.41-.59l7.78-7.78 2.81-2.81c.8-.78.8-2.07 0-2.86zM5.41 20L4 18.59l7.72-7.72 1.47 1.35L5.41 20z\"/>\n",
              "  </svg>\n",
              "      </button>\n",
              "      \n",
              "  <style>\n",
              "    .colab-df-container {\n",
              "      display:flex;\n",
              "      flex-wrap:wrap;\n",
              "      gap: 12px;\n",
              "    }\n",
              "\n",
              "    .colab-df-convert {\n",
              "      background-color: #E8F0FE;\n",
              "      border: none;\n",
              "      border-radius: 50%;\n",
              "      cursor: pointer;\n",
              "      display: none;\n",
              "      fill: #1967D2;\n",
              "      height: 32px;\n",
              "      padding: 0 0 0 0;\n",
              "      width: 32px;\n",
              "    }\n",
              "\n",
              "    .colab-df-convert:hover {\n",
              "      background-color: #E2EBFA;\n",
              "      box-shadow: 0px 1px 2px rgba(60, 64, 67, 0.3), 0px 1px 3px 1px rgba(60, 64, 67, 0.15);\n",
              "      fill: #174EA6;\n",
              "    }\n",
              "\n",
              "    [theme=dark] .colab-df-convert {\n",
              "      background-color: #3B4455;\n",
              "      fill: #D2E3FC;\n",
              "    }\n",
              "\n",
              "    [theme=dark] .colab-df-convert:hover {\n",
              "      background-color: #434B5C;\n",
              "      box-shadow: 0px 1px 3px 1px rgba(0, 0, 0, 0.15);\n",
              "      filter: drop-shadow(0px 1px 2px rgba(0, 0, 0, 0.3));\n",
              "      fill: #FFFFFF;\n",
              "    }\n",
              "  </style>\n",
              "\n",
              "      <script>\n",
              "        const buttonEl =\n",
              "          document.querySelector('#df-fa9536d5-395a-4e62-b72f-9214bb8f72e5 button.colab-df-convert');\n",
              "        buttonEl.style.display =\n",
              "          google.colab.kernel.accessAllowed ? 'block' : 'none';\n",
              "\n",
              "        async function convertToInteractive(key) {\n",
              "          const element = document.querySelector('#df-fa9536d5-395a-4e62-b72f-9214bb8f72e5');\n",
              "          const dataTable =\n",
              "            await google.colab.kernel.invokeFunction('convertToInteractive',\n",
              "                                                     [key], {});\n",
              "          if (!dataTable) return;\n",
              "\n",
              "          const docLinkHtml = 'Like what you see? Visit the ' +\n",
              "            '<a target=\"_blank\" href=https://colab.research.google.com/notebooks/data_table.ipynb>data table notebook</a>'\n",
              "            + ' to learn more about interactive tables.';\n",
              "          element.innerHTML = '';\n",
              "          dataTable['output_type'] = 'display_data';\n",
              "          await google.colab.output.renderOutput(dataTable, element);\n",
              "          const docLink = document.createElement('div');\n",
              "          docLink.innerHTML = docLinkHtml;\n",
              "          element.appendChild(docLink);\n",
              "        }\n",
              "      </script>\n",
              "    </div>\n",
              "  </div>\n",
              "  "
            ]
          },
          "metadata": {},
          "execution_count": 45
        }
      ],
      "id": "usHqu7f-wJwb"
    },
    {
      "cell_type": "code",
      "source": [
        "train.head(n=2)"
      ],
      "metadata": {
        "tags": [],
        "execution": {
          "iopub.status.busy": "2023-05-30T07:58:59.034678Z",
          "iopub.execute_input": "2023-05-30T07:58:59.035027Z",
          "iopub.status.idle": "2023-05-30T07:58:59.050425Z",
          "shell.execute_reply.started": "2023-05-30T07:58:59.035000Z",
          "shell.execute_reply": "2023-05-30T07:58:59.049488Z"
        },
        "trusted": true,
        "colab": {
          "base_uri": "https://localhost:8080/",
          "height": 191
        },
        "id": "7lVrXGGnwJwb",
        "outputId": "c5449389-556f-41af-d0d1-b82aed3c0380"
      },
      "execution_count": 46,
      "outputs": [
        {
          "output_type": "execute_result",
          "data": {
            "text/plain": [
              "           ID                                   TransactionDates  \\\n",
              "0  ID_MR53LEX  ['04-2018', '05-2018', '06-2018', '07-2018', '...   \n",
              "1  ID_3D7NQUH  ['04-2018', '05-2018', '06-2018', '07-2018', '...   \n",
              "\n",
              "                                     PaymentsHistory     m1     m2     m3  \\\n",
              "0  [3600.0, 750.0, 350.0, 65.0, 95.0, 135.0, 85.0...  880.0  930.0  495.0   \n",
              "1  [2940.0, 970.0, 380.0, 880.0, 385.0, 440.0, 11...  660.0  935.0  935.0   \n",
              "\n",
              "      m4     m5     m6  \n",
              "0  715.0  220.0  385.0  \n",
              "1  825.0  770.0  935.0  "
            ],
            "text/html": [
              "\n",
              "  <div id=\"df-38e0bc53-dbdb-4859-b977-378eba37a541\">\n",
              "    <div class=\"colab-df-container\">\n",
              "      <div>\n",
              "<style scoped>\n",
              "    .dataframe tbody tr th:only-of-type {\n",
              "        vertical-align: middle;\n",
              "    }\n",
              "\n",
              "    .dataframe tbody tr th {\n",
              "        vertical-align: top;\n",
              "    }\n",
              "\n",
              "    .dataframe thead th {\n",
              "        text-align: right;\n",
              "    }\n",
              "</style>\n",
              "<table border=\"1\" class=\"dataframe\">\n",
              "  <thead>\n",
              "    <tr style=\"text-align: right;\">\n",
              "      <th></th>\n",
              "      <th>ID</th>\n",
              "      <th>TransactionDates</th>\n",
              "      <th>PaymentsHistory</th>\n",
              "      <th>m1</th>\n",
              "      <th>m2</th>\n",
              "      <th>m3</th>\n",
              "      <th>m4</th>\n",
              "      <th>m5</th>\n",
              "      <th>m6</th>\n",
              "    </tr>\n",
              "  </thead>\n",
              "  <tbody>\n",
              "    <tr>\n",
              "      <th>0</th>\n",
              "      <td>ID_MR53LEX</td>\n",
              "      <td>['04-2018', '05-2018', '06-2018', '07-2018', '...</td>\n",
              "      <td>[3600.0, 750.0, 350.0, 65.0, 95.0, 135.0, 85.0...</td>\n",
              "      <td>880.0</td>\n",
              "      <td>930.0</td>\n",
              "      <td>495.0</td>\n",
              "      <td>715.0</td>\n",
              "      <td>220.0</td>\n",
              "      <td>385.0</td>\n",
              "    </tr>\n",
              "    <tr>\n",
              "      <th>1</th>\n",
              "      <td>ID_3D7NQUH</td>\n",
              "      <td>['04-2018', '05-2018', '06-2018', '07-2018', '...</td>\n",
              "      <td>[2940.0, 970.0, 380.0, 880.0, 385.0, 440.0, 11...</td>\n",
              "      <td>660.0</td>\n",
              "      <td>935.0</td>\n",
              "      <td>935.0</td>\n",
              "      <td>825.0</td>\n",
              "      <td>770.0</td>\n",
              "      <td>935.0</td>\n",
              "    </tr>\n",
              "  </tbody>\n",
              "</table>\n",
              "</div>\n",
              "      <button class=\"colab-df-convert\" onclick=\"convertToInteractive('df-38e0bc53-dbdb-4859-b977-378eba37a541')\"\n",
              "              title=\"Convert this dataframe to an interactive table.\"\n",
              "              style=\"display:none;\">\n",
              "        \n",
              "  <svg xmlns=\"http://www.w3.org/2000/svg\" height=\"24px\"viewBox=\"0 0 24 24\"\n",
              "       width=\"24px\">\n",
              "    <path d=\"M0 0h24v24H0V0z\" fill=\"none\"/>\n",
              "    <path d=\"M18.56 5.44l.94 2.06.94-2.06 2.06-.94-2.06-.94-.94-2.06-.94 2.06-2.06.94zm-11 1L8.5 8.5l.94-2.06 2.06-.94-2.06-.94L8.5 2.5l-.94 2.06-2.06.94zm10 10l.94 2.06.94-2.06 2.06-.94-2.06-.94-.94-2.06-.94 2.06-2.06.94z\"/><path d=\"M17.41 7.96l-1.37-1.37c-.4-.4-.92-.59-1.43-.59-.52 0-1.04.2-1.43.59L10.3 9.45l-7.72 7.72c-.78.78-.78 2.05 0 2.83L4 21.41c.39.39.9.59 1.41.59.51 0 1.02-.2 1.41-.59l7.78-7.78 2.81-2.81c.8-.78.8-2.07 0-2.86zM5.41 20L4 18.59l7.72-7.72 1.47 1.35L5.41 20z\"/>\n",
              "  </svg>\n",
              "      </button>\n",
              "      \n",
              "  <style>\n",
              "    .colab-df-container {\n",
              "      display:flex;\n",
              "      flex-wrap:wrap;\n",
              "      gap: 12px;\n",
              "    }\n",
              "\n",
              "    .colab-df-convert {\n",
              "      background-color: #E8F0FE;\n",
              "      border: none;\n",
              "      border-radius: 50%;\n",
              "      cursor: pointer;\n",
              "      display: none;\n",
              "      fill: #1967D2;\n",
              "      height: 32px;\n",
              "      padding: 0 0 0 0;\n",
              "      width: 32px;\n",
              "    }\n",
              "\n",
              "    .colab-df-convert:hover {\n",
              "      background-color: #E2EBFA;\n",
              "      box-shadow: 0px 1px 2px rgba(60, 64, 67, 0.3), 0px 1px 3px 1px rgba(60, 64, 67, 0.15);\n",
              "      fill: #174EA6;\n",
              "    }\n",
              "\n",
              "    [theme=dark] .colab-df-convert {\n",
              "      background-color: #3B4455;\n",
              "      fill: #D2E3FC;\n",
              "    }\n",
              "\n",
              "    [theme=dark] .colab-df-convert:hover {\n",
              "      background-color: #434B5C;\n",
              "      box-shadow: 0px 1px 3px 1px rgba(0, 0, 0, 0.15);\n",
              "      filter: drop-shadow(0px 1px 2px rgba(0, 0, 0, 0.3));\n",
              "      fill: #FFFFFF;\n",
              "    }\n",
              "  </style>\n",
              "\n",
              "      <script>\n",
              "        const buttonEl =\n",
              "          document.querySelector('#df-38e0bc53-dbdb-4859-b977-378eba37a541 button.colab-df-convert');\n",
              "        buttonEl.style.display =\n",
              "          google.colab.kernel.accessAllowed ? 'block' : 'none';\n",
              "\n",
              "        async function convertToInteractive(key) {\n",
              "          const element = document.querySelector('#df-38e0bc53-dbdb-4859-b977-378eba37a541');\n",
              "          const dataTable =\n",
              "            await google.colab.kernel.invokeFunction('convertToInteractive',\n",
              "                                                     [key], {});\n",
              "          if (!dataTable) return;\n",
              "\n",
              "          const docLinkHtml = 'Like what you see? Visit the ' +\n",
              "            '<a target=\"_blank\" href=https://colab.research.google.com/notebooks/data_table.ipynb>data table notebook</a>'\n",
              "            + ' to learn more about interactive tables.';\n",
              "          element.innerHTML = '';\n",
              "          dataTable['output_type'] = 'display_data';\n",
              "          await google.colab.output.renderOutput(dataTable, element);\n",
              "          const docLink = document.createElement('div');\n",
              "          docLink.innerHTML = docLinkHtml;\n",
              "          element.appendChild(docLink);\n",
              "        }\n",
              "      </script>\n",
              "    </div>\n",
              "  </div>\n",
              "  "
            ]
          },
          "metadata": {},
          "execution_count": 46
        }
      ],
      "id": "7lVrXGGnwJwb"
    },
    {
      "cell_type": "code",
      "source": [
        "metadata.info()"
      ],
      "metadata": {
        "tags": [],
        "execution": {
          "iopub.status.busy": "2023-05-30T07:58:59.244670Z",
          "iopub.execute_input": "2023-05-30T07:58:59.245007Z",
          "iopub.status.idle": "2023-05-30T07:58:59.378803Z",
          "shell.execute_reply.started": "2023-05-30T07:58:59.244982Z",
          "shell.execute_reply": "2023-05-30T07:58:59.377836Z"
        },
        "trusted": true,
        "colab": {
          "base_uri": "https://localhost:8080/"
        },
        "id": "mteXiKwmwJwb",
        "outputId": "7d06463b-2d89-4bfe-e10c-dbb3ef4ae5fb"
      },
      "execution_count": 47,
      "outputs": [
        {
          "output_type": "stream",
          "name": "stdout",
          "text": [
            "<class 'pandas.core.frame.DataFrame'>\n",
            "RangeIndex: 37343 entries, 0 to 37342\n",
            "Data columns (total 20 columns):\n",
            " #   Column               Non-Null Count  Dtype  \n",
            "---  ------               --------------  -----  \n",
            " 0   ID                   37343 non-null  object \n",
            " 1   RegistrationDate     37343 non-null  object \n",
            " 2   Deposit              37343 non-null  int64  \n",
            " 3   UpsellDate           973 non-null    object \n",
            " 4   AccessoryRate        37343 non-null  float64\n",
            " 5   PaymentMethod        37343 non-null  object \n",
            " 6   rateTypeEntity       37343 non-null  object \n",
            " 7   RatePerUnit          37343 non-null  int64  \n",
            " 8   DaysOnDeposit        37343 non-null  int64  \n",
            " 9   MainApplicantGender  37343 non-null  object \n",
            " 10  Age                  30404 non-null  float64\n",
            " 11  Region               35409 non-null  object \n",
            " 12  Town                 37343 non-null  object \n",
            " 13  Occupation           37343 non-null  object \n",
            " 14  SupplierName         37343 non-null  object \n",
            " 15  Term                 37343 non-null  int64  \n",
            " 16  TotalContractValue   37343 non-null  float64\n",
            " 17  ExpectedTermDate     37343 non-null  object \n",
            " 18  FirstPaymentDate     37343 non-null  object \n",
            " 19  LastPaymentDate      37343 non-null  object \n",
            "dtypes: float64(3), int64(4), object(13)\n",
            "memory usage: 5.7+ MB\n"
          ]
        }
      ],
      "id": "mteXiKwmwJwb"
    },
    {
      "cell_type": "code",
      "source": [
        "metadata.describe(datetime_is_numeric=True).transpose()"
      ],
      "metadata": {
        "tags": [],
        "execution": {
          "iopub.status.busy": "2023-05-30T07:59:02.364851Z",
          "iopub.execute_input": "2023-05-30T07:59:02.365204Z",
          "iopub.status.idle": "2023-05-30T07:59:02.406783Z",
          "shell.execute_reply.started": "2023-05-30T07:59:02.365176Z",
          "shell.execute_reply": "2023-05-30T07:59:02.405745Z"
        },
        "trusted": true,
        "colab": {
          "base_uri": "https://localhost:8080/",
          "height": 269
        },
        "id": "oAt_oKUxwJwc",
        "outputId": "90fc9f63-523e-48a9-92c2-2128f8f6f9bd"
      },
      "execution_count": 48,
      "outputs": [
        {
          "output_type": "execute_result",
          "data": {
            "text/plain": [
              "                      count          mean           std      min      25%  \\\n",
              "Deposit             37343.0   2348.631685    417.814614      0.0   2000.0   \n",
              "AccessoryRate       37343.0      1.136090      7.791789      0.0      0.0   \n",
              "RatePerUnit         37343.0     49.923868     57.500215     35.0     40.0   \n",
              "DaysOnDeposit       37343.0      4.600835      3.429060      0.0      3.0   \n",
              "Age                 30404.0     38.855677     12.300827     19.0     29.0   \n",
              "Term                37343.0    412.427657    121.602544     10.0    364.0   \n",
              "TotalContractValue  37343.0  22953.005142  10149.863172  10800.0  16560.0   \n",
              "\n",
              "                        50%      75%      max  \n",
              "Deposit              2000.0   2500.0   8000.0  \n",
              "AccessoryRate           0.0      0.0    240.0  \n",
              "RatePerUnit            40.0     55.0   4000.0  \n",
              "DaysOnDeposit           3.0      7.0     60.0  \n",
              "Age                    36.0     46.0    120.0  \n",
              "Term                  364.0    547.0    626.0  \n",
              "TotalContractValue  16560.0  33080.0  64484.0  "
            ],
            "text/html": [
              "\n",
              "  <div id=\"df-ab13d4c1-7f64-49cf-92e4-11364b97fa0d\">\n",
              "    <div class=\"colab-df-container\">\n",
              "      <div>\n",
              "<style scoped>\n",
              "    .dataframe tbody tr th:only-of-type {\n",
              "        vertical-align: middle;\n",
              "    }\n",
              "\n",
              "    .dataframe tbody tr th {\n",
              "        vertical-align: top;\n",
              "    }\n",
              "\n",
              "    .dataframe thead th {\n",
              "        text-align: right;\n",
              "    }\n",
              "</style>\n",
              "<table border=\"1\" class=\"dataframe\">\n",
              "  <thead>\n",
              "    <tr style=\"text-align: right;\">\n",
              "      <th></th>\n",
              "      <th>count</th>\n",
              "      <th>mean</th>\n",
              "      <th>std</th>\n",
              "      <th>min</th>\n",
              "      <th>25%</th>\n",
              "      <th>50%</th>\n",
              "      <th>75%</th>\n",
              "      <th>max</th>\n",
              "    </tr>\n",
              "  </thead>\n",
              "  <tbody>\n",
              "    <tr>\n",
              "      <th>Deposit</th>\n",
              "      <td>37343.0</td>\n",
              "      <td>2348.631685</td>\n",
              "      <td>417.814614</td>\n",
              "      <td>0.0</td>\n",
              "      <td>2000.0</td>\n",
              "      <td>2000.0</td>\n",
              "      <td>2500.0</td>\n",
              "      <td>8000.0</td>\n",
              "    </tr>\n",
              "    <tr>\n",
              "      <th>AccessoryRate</th>\n",
              "      <td>37343.0</td>\n",
              "      <td>1.136090</td>\n",
              "      <td>7.791789</td>\n",
              "      <td>0.0</td>\n",
              "      <td>0.0</td>\n",
              "      <td>0.0</td>\n",
              "      <td>0.0</td>\n",
              "      <td>240.0</td>\n",
              "    </tr>\n",
              "    <tr>\n",
              "      <th>RatePerUnit</th>\n",
              "      <td>37343.0</td>\n",
              "      <td>49.923868</td>\n",
              "      <td>57.500215</td>\n",
              "      <td>35.0</td>\n",
              "      <td>40.0</td>\n",
              "      <td>40.0</td>\n",
              "      <td>55.0</td>\n",
              "      <td>4000.0</td>\n",
              "    </tr>\n",
              "    <tr>\n",
              "      <th>DaysOnDeposit</th>\n",
              "      <td>37343.0</td>\n",
              "      <td>4.600835</td>\n",
              "      <td>3.429060</td>\n",
              "      <td>0.0</td>\n",
              "      <td>3.0</td>\n",
              "      <td>3.0</td>\n",
              "      <td>7.0</td>\n",
              "      <td>60.0</td>\n",
              "    </tr>\n",
              "    <tr>\n",
              "      <th>Age</th>\n",
              "      <td>30404.0</td>\n",
              "      <td>38.855677</td>\n",
              "      <td>12.300827</td>\n",
              "      <td>19.0</td>\n",
              "      <td>29.0</td>\n",
              "      <td>36.0</td>\n",
              "      <td>46.0</td>\n",
              "      <td>120.0</td>\n",
              "    </tr>\n",
              "    <tr>\n",
              "      <th>Term</th>\n",
              "      <td>37343.0</td>\n",
              "      <td>412.427657</td>\n",
              "      <td>121.602544</td>\n",
              "      <td>10.0</td>\n",
              "      <td>364.0</td>\n",
              "      <td>364.0</td>\n",
              "      <td>547.0</td>\n",
              "      <td>626.0</td>\n",
              "    </tr>\n",
              "    <tr>\n",
              "      <th>TotalContractValue</th>\n",
              "      <td>37343.0</td>\n",
              "      <td>22953.005142</td>\n",
              "      <td>10149.863172</td>\n",
              "      <td>10800.0</td>\n",
              "      <td>16560.0</td>\n",
              "      <td>16560.0</td>\n",
              "      <td>33080.0</td>\n",
              "      <td>64484.0</td>\n",
              "    </tr>\n",
              "  </tbody>\n",
              "</table>\n",
              "</div>\n",
              "      <button class=\"colab-df-convert\" onclick=\"convertToInteractive('df-ab13d4c1-7f64-49cf-92e4-11364b97fa0d')\"\n",
              "              title=\"Convert this dataframe to an interactive table.\"\n",
              "              style=\"display:none;\">\n",
              "        \n",
              "  <svg xmlns=\"http://www.w3.org/2000/svg\" height=\"24px\"viewBox=\"0 0 24 24\"\n",
              "       width=\"24px\">\n",
              "    <path d=\"M0 0h24v24H0V0z\" fill=\"none\"/>\n",
              "    <path d=\"M18.56 5.44l.94 2.06.94-2.06 2.06-.94-2.06-.94-.94-2.06-.94 2.06-2.06.94zm-11 1L8.5 8.5l.94-2.06 2.06-.94-2.06-.94L8.5 2.5l-.94 2.06-2.06.94zm10 10l.94 2.06.94-2.06 2.06-.94-2.06-.94-.94-2.06-.94 2.06-2.06.94z\"/><path d=\"M17.41 7.96l-1.37-1.37c-.4-.4-.92-.59-1.43-.59-.52 0-1.04.2-1.43.59L10.3 9.45l-7.72 7.72c-.78.78-.78 2.05 0 2.83L4 21.41c.39.39.9.59 1.41.59.51 0 1.02-.2 1.41-.59l7.78-7.78 2.81-2.81c.8-.78.8-2.07 0-2.86zM5.41 20L4 18.59l7.72-7.72 1.47 1.35L5.41 20z\"/>\n",
              "  </svg>\n",
              "      </button>\n",
              "      \n",
              "  <style>\n",
              "    .colab-df-container {\n",
              "      display:flex;\n",
              "      flex-wrap:wrap;\n",
              "      gap: 12px;\n",
              "    }\n",
              "\n",
              "    .colab-df-convert {\n",
              "      background-color: #E8F0FE;\n",
              "      border: none;\n",
              "      border-radius: 50%;\n",
              "      cursor: pointer;\n",
              "      display: none;\n",
              "      fill: #1967D2;\n",
              "      height: 32px;\n",
              "      padding: 0 0 0 0;\n",
              "      width: 32px;\n",
              "    }\n",
              "\n",
              "    .colab-df-convert:hover {\n",
              "      background-color: #E2EBFA;\n",
              "      box-shadow: 0px 1px 2px rgba(60, 64, 67, 0.3), 0px 1px 3px 1px rgba(60, 64, 67, 0.15);\n",
              "      fill: #174EA6;\n",
              "    }\n",
              "\n",
              "    [theme=dark] .colab-df-convert {\n",
              "      background-color: #3B4455;\n",
              "      fill: #D2E3FC;\n",
              "    }\n",
              "\n",
              "    [theme=dark] .colab-df-convert:hover {\n",
              "      background-color: #434B5C;\n",
              "      box-shadow: 0px 1px 3px 1px rgba(0, 0, 0, 0.15);\n",
              "      filter: drop-shadow(0px 1px 2px rgba(0, 0, 0, 0.3));\n",
              "      fill: #FFFFFF;\n",
              "    }\n",
              "  </style>\n",
              "\n",
              "      <script>\n",
              "        const buttonEl =\n",
              "          document.querySelector('#df-ab13d4c1-7f64-49cf-92e4-11364b97fa0d button.colab-df-convert');\n",
              "        buttonEl.style.display =\n",
              "          google.colab.kernel.accessAllowed ? 'block' : 'none';\n",
              "\n",
              "        async function convertToInteractive(key) {\n",
              "          const element = document.querySelector('#df-ab13d4c1-7f64-49cf-92e4-11364b97fa0d');\n",
              "          const dataTable =\n",
              "            await google.colab.kernel.invokeFunction('convertToInteractive',\n",
              "                                                     [key], {});\n",
              "          if (!dataTable) return;\n",
              "\n",
              "          const docLinkHtml = 'Like what you see? Visit the ' +\n",
              "            '<a target=\"_blank\" href=https://colab.research.google.com/notebooks/data_table.ipynb>data table notebook</a>'\n",
              "            + ' to learn more about interactive tables.';\n",
              "          element.innerHTML = '';\n",
              "          dataTable['output_type'] = 'display_data';\n",
              "          await google.colab.output.renderOutput(dataTable, element);\n",
              "          const docLink = document.createElement('div');\n",
              "          docLink.innerHTML = docLinkHtml;\n",
              "          element.appendChild(docLink);\n",
              "        }\n",
              "      </script>\n",
              "    </div>\n",
              "  </div>\n",
              "  "
            ]
          },
          "metadata": {},
          "execution_count": 48
        }
      ],
      "id": "oAt_oKUxwJwc"
    },
    {
      "cell_type": "code",
      "source": [
        "metadata.head(n=2)"
      ],
      "metadata": {
        "tags": [],
        "execution": {
          "iopub.status.busy": "2023-05-30T07:59:02.662604Z",
          "iopub.execute_input": "2023-05-30T07:59:02.663252Z",
          "iopub.status.idle": "2023-05-30T07:59:02.684347Z",
          "shell.execute_reply.started": "2023-05-30T07:59:02.663212Z",
          "shell.execute_reply": "2023-05-30T07:59:02.683413Z"
        },
        "trusted": true,
        "colab": {
          "base_uri": "https://localhost:8080/",
          "height": 228
        },
        "id": "w_-CN4HfwJwc",
        "outputId": "4597644e-8500-4837-ebdd-e260a74d5c0e"
      },
      "execution_count": 49,
      "outputs": [
        {
          "output_type": "execute_result",
          "data": {
            "text/plain": [
              "           ID     RegistrationDate  Deposit UpsellDate  AccessoryRate  \\\n",
              "0  ID_K00S4N4  2015-12-10 00:00:00     2000        NaN            0.0   \n",
              "1  ID_6L67PAA  2015-12-09 00:00:00     2000        NaN            0.0   \n",
              "\n",
              "  PaymentMethod rateTypeEntity  RatePerUnit  DaysOnDeposit  \\\n",
              "0      FINANCED          DAILY           35              7   \n",
              "1      FINANCED          DAILY           35              7   \n",
              "\n",
              "  MainApplicantGender   Age              Region    Town Occupation  \\\n",
              "0                Male  41.0  Mount Kenya Region    Embu      Other   \n",
              "1                Male  33.0        Coast Region  Kilifi      Other   \n",
              "\n",
              "  SupplierName  Term  TotalContractValue     ExpectedTermDate  \\\n",
              "0      d_light   364             14740.0  2016-12-08 00:00:00   \n",
              "1      d_light   364             14740.0  2016-12-07 00:00:00   \n",
              "\n",
              "      FirstPaymentDate      LastPaymentDate  \n",
              "0  2015-12-10 09:52:35  2016-10-23 04:52:30  \n",
              "1  2015-12-09 13:14:03  2020-05-24 15:32:18  "
            ],
            "text/html": [
              "\n",
              "  <div id=\"df-d0cc50d1-11f9-4fcc-bc64-b754d2a092eb\">\n",
              "    <div class=\"colab-df-container\">\n",
              "      <div>\n",
              "<style scoped>\n",
              "    .dataframe tbody tr th:only-of-type {\n",
              "        vertical-align: middle;\n",
              "    }\n",
              "\n",
              "    .dataframe tbody tr th {\n",
              "        vertical-align: top;\n",
              "    }\n",
              "\n",
              "    .dataframe thead th {\n",
              "        text-align: right;\n",
              "    }\n",
              "</style>\n",
              "<table border=\"1\" class=\"dataframe\">\n",
              "  <thead>\n",
              "    <tr style=\"text-align: right;\">\n",
              "      <th></th>\n",
              "      <th>ID</th>\n",
              "      <th>RegistrationDate</th>\n",
              "      <th>Deposit</th>\n",
              "      <th>UpsellDate</th>\n",
              "      <th>AccessoryRate</th>\n",
              "      <th>PaymentMethod</th>\n",
              "      <th>rateTypeEntity</th>\n",
              "      <th>RatePerUnit</th>\n",
              "      <th>DaysOnDeposit</th>\n",
              "      <th>MainApplicantGender</th>\n",
              "      <th>Age</th>\n",
              "      <th>Region</th>\n",
              "      <th>Town</th>\n",
              "      <th>Occupation</th>\n",
              "      <th>SupplierName</th>\n",
              "      <th>Term</th>\n",
              "      <th>TotalContractValue</th>\n",
              "      <th>ExpectedTermDate</th>\n",
              "      <th>FirstPaymentDate</th>\n",
              "      <th>LastPaymentDate</th>\n",
              "    </tr>\n",
              "  </thead>\n",
              "  <tbody>\n",
              "    <tr>\n",
              "      <th>0</th>\n",
              "      <td>ID_K00S4N4</td>\n",
              "      <td>2015-12-10 00:00:00</td>\n",
              "      <td>2000</td>\n",
              "      <td>NaN</td>\n",
              "      <td>0.0</td>\n",
              "      <td>FINANCED</td>\n",
              "      <td>DAILY</td>\n",
              "      <td>35</td>\n",
              "      <td>7</td>\n",
              "      <td>Male</td>\n",
              "      <td>41.0</td>\n",
              "      <td>Mount Kenya Region</td>\n",
              "      <td>Embu</td>\n",
              "      <td>Other</td>\n",
              "      <td>d_light</td>\n",
              "      <td>364</td>\n",
              "      <td>14740.0</td>\n",
              "      <td>2016-12-08 00:00:00</td>\n",
              "      <td>2015-12-10 09:52:35</td>\n",
              "      <td>2016-10-23 04:52:30</td>\n",
              "    </tr>\n",
              "    <tr>\n",
              "      <th>1</th>\n",
              "      <td>ID_6L67PAA</td>\n",
              "      <td>2015-12-09 00:00:00</td>\n",
              "      <td>2000</td>\n",
              "      <td>NaN</td>\n",
              "      <td>0.0</td>\n",
              "      <td>FINANCED</td>\n",
              "      <td>DAILY</td>\n",
              "      <td>35</td>\n",
              "      <td>7</td>\n",
              "      <td>Male</td>\n",
              "      <td>33.0</td>\n",
              "      <td>Coast Region</td>\n",
              "      <td>Kilifi</td>\n",
              "      <td>Other</td>\n",
              "      <td>d_light</td>\n",
              "      <td>364</td>\n",
              "      <td>14740.0</td>\n",
              "      <td>2016-12-07 00:00:00</td>\n",
              "      <td>2015-12-09 13:14:03</td>\n",
              "      <td>2020-05-24 15:32:18</td>\n",
              "    </tr>\n",
              "  </tbody>\n",
              "</table>\n",
              "</div>\n",
              "      <button class=\"colab-df-convert\" onclick=\"convertToInteractive('df-d0cc50d1-11f9-4fcc-bc64-b754d2a092eb')\"\n",
              "              title=\"Convert this dataframe to an interactive table.\"\n",
              "              style=\"display:none;\">\n",
              "        \n",
              "  <svg xmlns=\"http://www.w3.org/2000/svg\" height=\"24px\"viewBox=\"0 0 24 24\"\n",
              "       width=\"24px\">\n",
              "    <path d=\"M0 0h24v24H0V0z\" fill=\"none\"/>\n",
              "    <path d=\"M18.56 5.44l.94 2.06.94-2.06 2.06-.94-2.06-.94-.94-2.06-.94 2.06-2.06.94zm-11 1L8.5 8.5l.94-2.06 2.06-.94-2.06-.94L8.5 2.5l-.94 2.06-2.06.94zm10 10l.94 2.06.94-2.06 2.06-.94-2.06-.94-.94-2.06-.94 2.06-2.06.94z\"/><path d=\"M17.41 7.96l-1.37-1.37c-.4-.4-.92-.59-1.43-.59-.52 0-1.04.2-1.43.59L10.3 9.45l-7.72 7.72c-.78.78-.78 2.05 0 2.83L4 21.41c.39.39.9.59 1.41.59.51 0 1.02-.2 1.41-.59l7.78-7.78 2.81-2.81c.8-.78.8-2.07 0-2.86zM5.41 20L4 18.59l7.72-7.72 1.47 1.35L5.41 20z\"/>\n",
              "  </svg>\n",
              "      </button>\n",
              "      \n",
              "  <style>\n",
              "    .colab-df-container {\n",
              "      display:flex;\n",
              "      flex-wrap:wrap;\n",
              "      gap: 12px;\n",
              "    }\n",
              "\n",
              "    .colab-df-convert {\n",
              "      background-color: #E8F0FE;\n",
              "      border: none;\n",
              "      border-radius: 50%;\n",
              "      cursor: pointer;\n",
              "      display: none;\n",
              "      fill: #1967D2;\n",
              "      height: 32px;\n",
              "      padding: 0 0 0 0;\n",
              "      width: 32px;\n",
              "    }\n",
              "\n",
              "    .colab-df-convert:hover {\n",
              "      background-color: #E2EBFA;\n",
              "      box-shadow: 0px 1px 2px rgba(60, 64, 67, 0.3), 0px 1px 3px 1px rgba(60, 64, 67, 0.15);\n",
              "      fill: #174EA6;\n",
              "    }\n",
              "\n",
              "    [theme=dark] .colab-df-convert {\n",
              "      background-color: #3B4455;\n",
              "      fill: #D2E3FC;\n",
              "    }\n",
              "\n",
              "    [theme=dark] .colab-df-convert:hover {\n",
              "      background-color: #434B5C;\n",
              "      box-shadow: 0px 1px 3px 1px rgba(0, 0, 0, 0.15);\n",
              "      filter: drop-shadow(0px 1px 2px rgba(0, 0, 0, 0.3));\n",
              "      fill: #FFFFFF;\n",
              "    }\n",
              "  </style>\n",
              "\n",
              "      <script>\n",
              "        const buttonEl =\n",
              "          document.querySelector('#df-d0cc50d1-11f9-4fcc-bc64-b754d2a092eb button.colab-df-convert');\n",
              "        buttonEl.style.display =\n",
              "          google.colab.kernel.accessAllowed ? 'block' : 'none';\n",
              "\n",
              "        async function convertToInteractive(key) {\n",
              "          const element = document.querySelector('#df-d0cc50d1-11f9-4fcc-bc64-b754d2a092eb');\n",
              "          const dataTable =\n",
              "            await google.colab.kernel.invokeFunction('convertToInteractive',\n",
              "                                                     [key], {});\n",
              "          if (!dataTable) return;\n",
              "\n",
              "          const docLinkHtml = 'Like what you see? Visit the ' +\n",
              "            '<a target=\"_blank\" href=https://colab.research.google.com/notebooks/data_table.ipynb>data table notebook</a>'\n",
              "            + ' to learn more about interactive tables.';\n",
              "          element.innerHTML = '';\n",
              "          dataTable['output_type'] = 'display_data';\n",
              "          await google.colab.output.renderOutput(dataTable, element);\n",
              "          const docLink = document.createElement('div');\n",
              "          docLink.innerHTML = docLinkHtml;\n",
              "          element.appendChild(docLink);\n",
              "        }\n",
              "      </script>\n",
              "    </div>\n",
              "  </div>\n",
              "  "
            ]
          },
          "metadata": {},
          "execution_count": 49
        }
      ],
      "id": "w_-CN4HfwJwc"
    },
    {
      "cell_type": "code",
      "source": [
        "test.info()"
      ],
      "metadata": {
        "tags": [],
        "execution": {
          "iopub.status.busy": "2023-05-30T07:59:05.884391Z",
          "iopub.execute_input": "2023-05-30T07:59:05.885052Z",
          "iopub.status.idle": "2023-05-30T07:59:05.904217Z",
          "shell.execute_reply.started": "2023-05-30T07:59:05.885020Z",
          "shell.execute_reply": "2023-05-30T07:59:05.903138Z"
        },
        "trusted": true,
        "colab": {
          "base_uri": "https://localhost:8080/"
        },
        "id": "eIou2duqwJwc",
        "outputId": "ff5d4d54-cf95-4f5a-9f1f-7febc38677c9"
      },
      "execution_count": 50,
      "outputs": [
        {
          "output_type": "stream",
          "name": "stdout",
          "text": [
            "<class 'pandas.core.frame.DataFrame'>\n",
            "RangeIndex: 9336 entries, 0 to 9335\n",
            "Data columns (total 3 columns):\n",
            " #   Column            Non-Null Count  Dtype \n",
            "---  ------            --------------  ----- \n",
            " 0   ID                9336 non-null   object\n",
            " 1   TransactionDates  9336 non-null   object\n",
            " 2   PaymentsHistory   9336 non-null   object\n",
            "dtypes: object(3)\n",
            "memory usage: 218.9+ KB\n"
          ]
        }
      ],
      "id": "eIou2duqwJwc"
    },
    {
      "cell_type": "code",
      "source": [
        "test.describe(datetime_is_numeric=True).transpose()"
      ],
      "metadata": {
        "tags": [],
        "execution": {
          "iopub.status.busy": "2023-05-30T07:59:06.125011Z",
          "iopub.execute_input": "2023-05-30T07:59:06.125372Z",
          "iopub.status.idle": "2023-05-30T07:59:06.159318Z",
          "shell.execute_reply.started": "2023-05-30T07:59:06.125343Z",
          "shell.execute_reply": "2023-05-30T07:59:06.158481Z"
        },
        "trusted": true,
        "colab": {
          "base_uri": "https://localhost:8080/",
          "height": 143
        },
        "id": "5nfQw-SVwJwc",
        "outputId": "ae16b286-19d4-44f1-c802-1786c91b126f"
      },
      "execution_count": 51,
      "outputs": [
        {
          "output_type": "execute_result",
          "data": {
            "text/plain": [
              "                 count unique  \\\n",
              "ID                9336   9336   \n",
              "TransactionDates  9336   2938   \n",
              "PaymentsHistory   9336   9290   \n",
              "\n",
              "                                                                top freq  \n",
              "ID                                                       ID_6L67PAA    1  \n",
              "TransactionDates  ['01-2020', '02-2020', '03-2020', '04-2020', '...  333  \n",
              "PaymentsHistory   [3500.0, 1000.0, 1000.0, 1000.0, 1000.0, 1000....   15  "
            ],
            "text/html": [
              "\n",
              "  <div id=\"df-3c421580-9da4-4a13-9575-87403135a135\">\n",
              "    <div class=\"colab-df-container\">\n",
              "      <div>\n",
              "<style scoped>\n",
              "    .dataframe tbody tr th:only-of-type {\n",
              "        vertical-align: middle;\n",
              "    }\n",
              "\n",
              "    .dataframe tbody tr th {\n",
              "        vertical-align: top;\n",
              "    }\n",
              "\n",
              "    .dataframe thead th {\n",
              "        text-align: right;\n",
              "    }\n",
              "</style>\n",
              "<table border=\"1\" class=\"dataframe\">\n",
              "  <thead>\n",
              "    <tr style=\"text-align: right;\">\n",
              "      <th></th>\n",
              "      <th>count</th>\n",
              "      <th>unique</th>\n",
              "      <th>top</th>\n",
              "      <th>freq</th>\n",
              "    </tr>\n",
              "  </thead>\n",
              "  <tbody>\n",
              "    <tr>\n",
              "      <th>ID</th>\n",
              "      <td>9336</td>\n",
              "      <td>9336</td>\n",
              "      <td>ID_6L67PAA</td>\n",
              "      <td>1</td>\n",
              "    </tr>\n",
              "    <tr>\n",
              "      <th>TransactionDates</th>\n",
              "      <td>9336</td>\n",
              "      <td>2938</td>\n",
              "      <td>['01-2020', '02-2020', '03-2020', '04-2020', '...</td>\n",
              "      <td>333</td>\n",
              "    </tr>\n",
              "    <tr>\n",
              "      <th>PaymentsHistory</th>\n",
              "      <td>9336</td>\n",
              "      <td>9290</td>\n",
              "      <td>[3500.0, 1000.0, 1000.0, 1000.0, 1000.0, 1000....</td>\n",
              "      <td>15</td>\n",
              "    </tr>\n",
              "  </tbody>\n",
              "</table>\n",
              "</div>\n",
              "      <button class=\"colab-df-convert\" onclick=\"convertToInteractive('df-3c421580-9da4-4a13-9575-87403135a135')\"\n",
              "              title=\"Convert this dataframe to an interactive table.\"\n",
              "              style=\"display:none;\">\n",
              "        \n",
              "  <svg xmlns=\"http://www.w3.org/2000/svg\" height=\"24px\"viewBox=\"0 0 24 24\"\n",
              "       width=\"24px\">\n",
              "    <path d=\"M0 0h24v24H0V0z\" fill=\"none\"/>\n",
              "    <path d=\"M18.56 5.44l.94 2.06.94-2.06 2.06-.94-2.06-.94-.94-2.06-.94 2.06-2.06.94zm-11 1L8.5 8.5l.94-2.06 2.06-.94-2.06-.94L8.5 2.5l-.94 2.06-2.06.94zm10 10l.94 2.06.94-2.06 2.06-.94-2.06-.94-.94-2.06-.94 2.06-2.06.94z\"/><path d=\"M17.41 7.96l-1.37-1.37c-.4-.4-.92-.59-1.43-.59-.52 0-1.04.2-1.43.59L10.3 9.45l-7.72 7.72c-.78.78-.78 2.05 0 2.83L4 21.41c.39.39.9.59 1.41.59.51 0 1.02-.2 1.41-.59l7.78-7.78 2.81-2.81c.8-.78.8-2.07 0-2.86zM5.41 20L4 18.59l7.72-7.72 1.47 1.35L5.41 20z\"/>\n",
              "  </svg>\n",
              "      </button>\n",
              "      \n",
              "  <style>\n",
              "    .colab-df-container {\n",
              "      display:flex;\n",
              "      flex-wrap:wrap;\n",
              "      gap: 12px;\n",
              "    }\n",
              "\n",
              "    .colab-df-convert {\n",
              "      background-color: #E8F0FE;\n",
              "      border: none;\n",
              "      border-radius: 50%;\n",
              "      cursor: pointer;\n",
              "      display: none;\n",
              "      fill: #1967D2;\n",
              "      height: 32px;\n",
              "      padding: 0 0 0 0;\n",
              "      width: 32px;\n",
              "    }\n",
              "\n",
              "    .colab-df-convert:hover {\n",
              "      background-color: #E2EBFA;\n",
              "      box-shadow: 0px 1px 2px rgba(60, 64, 67, 0.3), 0px 1px 3px 1px rgba(60, 64, 67, 0.15);\n",
              "      fill: #174EA6;\n",
              "    }\n",
              "\n",
              "    [theme=dark] .colab-df-convert {\n",
              "      background-color: #3B4455;\n",
              "      fill: #D2E3FC;\n",
              "    }\n",
              "\n",
              "    [theme=dark] .colab-df-convert:hover {\n",
              "      background-color: #434B5C;\n",
              "      box-shadow: 0px 1px 3px 1px rgba(0, 0, 0, 0.15);\n",
              "      filter: drop-shadow(0px 1px 2px rgba(0, 0, 0, 0.3));\n",
              "      fill: #FFFFFF;\n",
              "    }\n",
              "  </style>\n",
              "\n",
              "      <script>\n",
              "        const buttonEl =\n",
              "          document.querySelector('#df-3c421580-9da4-4a13-9575-87403135a135 button.colab-df-convert');\n",
              "        buttonEl.style.display =\n",
              "          google.colab.kernel.accessAllowed ? 'block' : 'none';\n",
              "\n",
              "        async function convertToInteractive(key) {\n",
              "          const element = document.querySelector('#df-3c421580-9da4-4a13-9575-87403135a135');\n",
              "          const dataTable =\n",
              "            await google.colab.kernel.invokeFunction('convertToInteractive',\n",
              "                                                     [key], {});\n",
              "          if (!dataTable) return;\n",
              "\n",
              "          const docLinkHtml = 'Like what you see? Visit the ' +\n",
              "            '<a target=\"_blank\" href=https://colab.research.google.com/notebooks/data_table.ipynb>data table notebook</a>'\n",
              "            + ' to learn more about interactive tables.';\n",
              "          element.innerHTML = '';\n",
              "          dataTable['output_type'] = 'display_data';\n",
              "          await google.colab.output.renderOutput(dataTable, element);\n",
              "          const docLink = document.createElement('div');\n",
              "          docLink.innerHTML = docLinkHtml;\n",
              "          element.appendChild(docLink);\n",
              "        }\n",
              "      </script>\n",
              "    </div>\n",
              "  </div>\n",
              "  "
            ]
          },
          "metadata": {},
          "execution_count": 51
        }
      ],
      "id": "5nfQw-SVwJwc"
    },
    {
      "cell_type": "code",
      "source": [
        "test.head(n=2)"
      ],
      "metadata": {
        "tags": [],
        "execution": {
          "iopub.status.busy": "2023-05-30T07:59:08.854747Z",
          "iopub.execute_input": "2023-05-30T07:59:08.855829Z",
          "iopub.status.idle": "2023-05-30T07:59:08.866638Z",
          "shell.execute_reply.started": "2023-05-30T07:59:08.855789Z",
          "shell.execute_reply": "2023-05-30T07:59:08.865431Z"
        },
        "trusted": true,
        "colab": {
          "base_uri": "https://localhost:8080/",
          "height": 112
        },
        "id": "S2e5ok6lwJwc",
        "outputId": "ed411e4c-a69e-4390-8e34-05ac4fffccf2"
      },
      "execution_count": 52,
      "outputs": [
        {
          "output_type": "execute_result",
          "data": {
            "text/plain": [
              "           ID                                   TransactionDates  \\\n",
              "0  ID_6L67PAA  ['12-2015', '01-2016', '02-2016', '03-2016', '...   \n",
              "1  ID_VJ80SX2  ['12-2015', '01-2016', '02-2016', '03-2016', '...   \n",
              "\n",
              "                                     PaymentsHistory  \n",
              "0    [4000.0, 1050.0, 1050.0, 1050.0, 1050.0, 400.0]  \n",
              "1  [3000.0, 850.0, 750.0, 1500.0, 650.0, 1250.0, ...  "
            ],
            "text/html": [
              "\n",
              "  <div id=\"df-330855ad-c266-4bff-8fa8-689e27e7fb04\">\n",
              "    <div class=\"colab-df-container\">\n",
              "      <div>\n",
              "<style scoped>\n",
              "    .dataframe tbody tr th:only-of-type {\n",
              "        vertical-align: middle;\n",
              "    }\n",
              "\n",
              "    .dataframe tbody tr th {\n",
              "        vertical-align: top;\n",
              "    }\n",
              "\n",
              "    .dataframe thead th {\n",
              "        text-align: right;\n",
              "    }\n",
              "</style>\n",
              "<table border=\"1\" class=\"dataframe\">\n",
              "  <thead>\n",
              "    <tr style=\"text-align: right;\">\n",
              "      <th></th>\n",
              "      <th>ID</th>\n",
              "      <th>TransactionDates</th>\n",
              "      <th>PaymentsHistory</th>\n",
              "    </tr>\n",
              "  </thead>\n",
              "  <tbody>\n",
              "    <tr>\n",
              "      <th>0</th>\n",
              "      <td>ID_6L67PAA</td>\n",
              "      <td>['12-2015', '01-2016', '02-2016', '03-2016', '...</td>\n",
              "      <td>[4000.0, 1050.0, 1050.0, 1050.0, 1050.0, 400.0]</td>\n",
              "    </tr>\n",
              "    <tr>\n",
              "      <th>1</th>\n",
              "      <td>ID_VJ80SX2</td>\n",
              "      <td>['12-2015', '01-2016', '02-2016', '03-2016', '...</td>\n",
              "      <td>[3000.0, 850.0, 750.0, 1500.0, 650.0, 1250.0, ...</td>\n",
              "    </tr>\n",
              "  </tbody>\n",
              "</table>\n",
              "</div>\n",
              "      <button class=\"colab-df-convert\" onclick=\"convertToInteractive('df-330855ad-c266-4bff-8fa8-689e27e7fb04')\"\n",
              "              title=\"Convert this dataframe to an interactive table.\"\n",
              "              style=\"display:none;\">\n",
              "        \n",
              "  <svg xmlns=\"http://www.w3.org/2000/svg\" height=\"24px\"viewBox=\"0 0 24 24\"\n",
              "       width=\"24px\">\n",
              "    <path d=\"M0 0h24v24H0V0z\" fill=\"none\"/>\n",
              "    <path d=\"M18.56 5.44l.94 2.06.94-2.06 2.06-.94-2.06-.94-.94-2.06-.94 2.06-2.06.94zm-11 1L8.5 8.5l.94-2.06 2.06-.94-2.06-.94L8.5 2.5l-.94 2.06-2.06.94zm10 10l.94 2.06.94-2.06 2.06-.94-2.06-.94-.94-2.06-.94 2.06-2.06.94z\"/><path d=\"M17.41 7.96l-1.37-1.37c-.4-.4-.92-.59-1.43-.59-.52 0-1.04.2-1.43.59L10.3 9.45l-7.72 7.72c-.78.78-.78 2.05 0 2.83L4 21.41c.39.39.9.59 1.41.59.51 0 1.02-.2 1.41-.59l7.78-7.78 2.81-2.81c.8-.78.8-2.07 0-2.86zM5.41 20L4 18.59l7.72-7.72 1.47 1.35L5.41 20z\"/>\n",
              "  </svg>\n",
              "      </button>\n",
              "      \n",
              "  <style>\n",
              "    .colab-df-container {\n",
              "      display:flex;\n",
              "      flex-wrap:wrap;\n",
              "      gap: 12px;\n",
              "    }\n",
              "\n",
              "    .colab-df-convert {\n",
              "      background-color: #E8F0FE;\n",
              "      border: none;\n",
              "      border-radius: 50%;\n",
              "      cursor: pointer;\n",
              "      display: none;\n",
              "      fill: #1967D2;\n",
              "      height: 32px;\n",
              "      padding: 0 0 0 0;\n",
              "      width: 32px;\n",
              "    }\n",
              "\n",
              "    .colab-df-convert:hover {\n",
              "      background-color: #E2EBFA;\n",
              "      box-shadow: 0px 1px 2px rgba(60, 64, 67, 0.3), 0px 1px 3px 1px rgba(60, 64, 67, 0.15);\n",
              "      fill: #174EA6;\n",
              "    }\n",
              "\n",
              "    [theme=dark] .colab-df-convert {\n",
              "      background-color: #3B4455;\n",
              "      fill: #D2E3FC;\n",
              "    }\n",
              "\n",
              "    [theme=dark] .colab-df-convert:hover {\n",
              "      background-color: #434B5C;\n",
              "      box-shadow: 0px 1px 3px 1px rgba(0, 0, 0, 0.15);\n",
              "      filter: drop-shadow(0px 1px 2px rgba(0, 0, 0, 0.3));\n",
              "      fill: #FFFFFF;\n",
              "    }\n",
              "  </style>\n",
              "\n",
              "      <script>\n",
              "        const buttonEl =\n",
              "          document.querySelector('#df-330855ad-c266-4bff-8fa8-689e27e7fb04 button.colab-df-convert');\n",
              "        buttonEl.style.display =\n",
              "          google.colab.kernel.accessAllowed ? 'block' : 'none';\n",
              "\n",
              "        async function convertToInteractive(key) {\n",
              "          const element = document.querySelector('#df-330855ad-c266-4bff-8fa8-689e27e7fb04');\n",
              "          const dataTable =\n",
              "            await google.colab.kernel.invokeFunction('convertToInteractive',\n",
              "                                                     [key], {});\n",
              "          if (!dataTable) return;\n",
              "\n",
              "          const docLinkHtml = 'Like what you see? Visit the ' +\n",
              "            '<a target=\"_blank\" href=https://colab.research.google.com/notebooks/data_table.ipynb>data table notebook</a>'\n",
              "            + ' to learn more about interactive tables.';\n",
              "          element.innerHTML = '';\n",
              "          dataTable['output_type'] = 'display_data';\n",
              "          await google.colab.output.renderOutput(dataTable, element);\n",
              "          const docLink = document.createElement('div');\n",
              "          docLink.innerHTML = docLinkHtml;\n",
              "          element.appendChild(docLink);\n",
              "        }\n",
              "      </script>\n",
              "    </div>\n",
              "  </div>\n",
              "  "
            ]
          },
          "metadata": {},
          "execution_count": 52
        }
      ],
      "id": "S2e5ok6lwJwc"
    },
    {
      "cell_type": "code",
      "source": [
        "print(\"---------------- Missing values Report ----------------\")\n",
        "print(train.isna().sum())"
      ],
      "metadata": {
        "tags": [],
        "execution": {
          "iopub.status.busy": "2023-05-30T07:59:09.054814Z",
          "iopub.execute_input": "2023-05-30T07:59:09.055162Z",
          "iopub.status.idle": "2023-05-30T07:59:09.085139Z",
          "shell.execute_reply.started": "2023-05-30T07:59:09.055135Z",
          "shell.execute_reply": "2023-05-30T07:59:09.084155Z"
        },
        "trusted": true,
        "colab": {
          "base_uri": "https://localhost:8080/"
        },
        "id": "fOGcSHDwwJwc",
        "outputId": "efb7c12e-cbe9-4278-8926-0dc700383f3b"
      },
      "execution_count": 53,
      "outputs": [
        {
          "output_type": "stream",
          "name": "stdout",
          "text": [
            "---------------- Missing values Report ----------------\n",
            "ID                  0\n",
            "TransactionDates    0\n",
            "PaymentsHistory     0\n",
            "m1                  0\n",
            "m2                  0\n",
            "m3                  0\n",
            "m4                  0\n",
            "m5                  0\n",
            "m6                  0\n",
            "dtype: int64\n"
          ]
        }
      ],
      "id": "fOGcSHDwwJwc"
    },
    {
      "cell_type": "code",
      "source": [
        "print(\"---------------- Missing values Report ----------------\")\n",
        "print(test.isna().sum())"
      ],
      "metadata": {
        "tags": [],
        "execution": {
          "iopub.status.busy": "2023-05-30T07:59:11.894613Z",
          "iopub.execute_input": "2023-05-30T07:59:11.894954Z",
          "iopub.status.idle": "2023-05-30T07:59:11.911419Z",
          "shell.execute_reply.started": "2023-05-30T07:59:11.894928Z",
          "shell.execute_reply": "2023-05-30T07:59:11.910376Z"
        },
        "trusted": true,
        "colab": {
          "base_uri": "https://localhost:8080/"
        },
        "id": "0_f2l6TwwJwc",
        "outputId": "a93a6aab-b2a9-4e7f-9fb1-2d677f2e9527"
      },
      "execution_count": 54,
      "outputs": [
        {
          "output_type": "stream",
          "name": "stdout",
          "text": [
            "---------------- Missing values Report ----------------\n",
            "ID                  0\n",
            "TransactionDates    0\n",
            "PaymentsHistory     0\n",
            "dtype: int64\n"
          ]
        }
      ],
      "id": "0_f2l6TwwJwc"
    },
    {
      "cell_type": "code",
      "source": [
        "print(\"---------------- Missing values Report ----------------\")\n",
        "print(metadata.isna().sum())"
      ],
      "metadata": {
        "tags": [],
        "execution": {
          "iopub.status.busy": "2023-05-30T07:59:12.124749Z",
          "iopub.execute_input": "2023-05-30T07:59:12.125410Z",
          "iopub.status.idle": "2023-05-30T07:59:12.253277Z",
          "shell.execute_reply.started": "2023-05-30T07:59:12.125378Z",
          "shell.execute_reply": "2023-05-30T07:59:12.252122Z"
        },
        "trusted": true,
        "colab": {
          "base_uri": "https://localhost:8080/"
        },
        "id": "T48RM2CSwJwd",
        "outputId": "f5de5e7e-4a71-49a9-d523-d5d9fd4511b5"
      },
      "execution_count": 55,
      "outputs": [
        {
          "output_type": "stream",
          "name": "stdout",
          "text": [
            "---------------- Missing values Report ----------------\n",
            "ID                         0\n",
            "RegistrationDate           0\n",
            "Deposit                    0\n",
            "UpsellDate             36370\n",
            "AccessoryRate              0\n",
            "PaymentMethod              0\n",
            "rateTypeEntity             0\n",
            "RatePerUnit                0\n",
            "DaysOnDeposit              0\n",
            "MainApplicantGender        0\n",
            "Age                     6939\n",
            "Region                  1934\n",
            "Town                       0\n",
            "Occupation                 0\n",
            "SupplierName               0\n",
            "Term                       0\n",
            "TotalContractValue         0\n",
            "ExpectedTermDate           0\n",
            "FirstPaymentDate           0\n",
            "LastPaymentDate            0\n",
            "dtype: int64\n"
          ]
        }
      ],
      "id": "T48RM2CSwJwd"
    },
    {
      "cell_type": "code",
      "source": [
        "merged = pd.merge(left=metadata, right=pd.concat(objs=[train, test]).fillna(value=0.), on=\"ID\")"
      ],
      "metadata": {
        "tags": [],
        "execution": {
          "iopub.status.busy": "2023-05-30T07:59:15.806756Z",
          "iopub.execute_input": "2023-05-30T07:59:15.807095Z",
          "iopub.status.idle": "2023-05-30T07:59:15.901183Z",
          "shell.execute_reply.started": "2023-05-30T07:59:15.807068Z",
          "shell.execute_reply": "2023-05-30T07:59:15.900278Z"
        },
        "trusted": true,
        "id": "PLgW52gkwJwd"
      },
      "execution_count": 56,
      "outputs": [],
      "id": "PLgW52gkwJwd"
    },
    {
      "cell_type": "code",
      "source": [
        "merged = create_target(df=merged, window=4)\n",
        "\n",
        "### some visualization\n",
        "fig = get_viz(df=merged)"
      ],
      "metadata": {
        "tags": [],
        "execution": {
          "iopub.status.busy": "2023-05-30T07:59:16.017773Z",
          "iopub.execute_input": "2023-05-30T07:59:16.018133Z",
          "iopub.status.idle": "2023-05-30T07:59:24.600050Z",
          "shell.execute_reply.started": "2023-05-30T07:59:16.018099Z",
          "shell.execute_reply": "2023-05-30T07:59:24.599155Z"
        },
        "trusted": true,
        "colab": {
          "base_uri": "https://localhost:8080/",
          "height": 490
        },
        "id": "Ioioi8gZwJwd",
        "outputId": "38980deb-2b29-4fc7-bbd2-da1f1b86fe50"
      },
      "execution_count": 57,
      "outputs": [
        {
          "output_type": "display_data",
          "data": {
            "text/plain": [
              "<Figure size 2500x1500 with 6 Axes>"
            ],
            "image/png": "[encoded data removed]"
          },
          "metadata": {}
        }
      ],
      "id": "Ioioi8gZwJwd"
    },
    {
      "cell_type": "markdown",
      "source": [
        "### Preprocessing"
      ],
      "metadata": {
        "id": "y99Ekyn-wJwd"
      },
      "id": "y99Ekyn-wJwd"
    },
    {
      "cell_type": "code",
      "source": [
        "merged_ = preprocess_data(df=merged, skip_cols=[\"PaymentsHistory\", \"TransactionDates\"])"
      ],
      "metadata": {
        "tags": [],
        "execution": {
          "iopub.status.busy": "2023-05-30T07:59:33.257058Z",
          "iopub.execute_input": "2023-05-30T07:59:33.257428Z",
          "iopub.status.idle": "2023-05-30T07:59:33.406809Z",
          "shell.execute_reply.started": "2023-05-30T07:59:33.257397Z",
          "shell.execute_reply": "2023-05-30T07:59:33.405775Z"
        },
        "trusted": true,
        "colab": {
          "base_uri": "https://localhost:8080/"
        },
        "id": "t_TLXySjwJwd",
        "outputId": "59a47511-4686-440a-c1b8-5ffdd9aa1429"
      },
      "execution_count": 58,
      "outputs": [
        {
          "output_type": "stream",
          "name": "stderr",
          "text": [
            "Processing categorical columns \t: 100%|██████████| 7/7 [00:00<00:00, 30.49it/s]\n",
            "Processing datetime columns \t: 100%|██████████| 5/5 [00:00<00:00, 23.48it/s]\n"
          ]
        }
      ],
      "id": "t_TLXySjwJwd"
    },
    {
      "cell_type": "code",
      "source": [
        "merged_.isna().sum()"
      ],
      "metadata": {
        "tags": [],
        "execution": {
          "iopub.status.busy": "2023-05-30T07:59:33.725498Z",
          "iopub.execute_input": "2023-05-30T07:59:33.725854Z",
          "iopub.status.idle": "2023-05-30T07:59:33.779513Z",
          "shell.execute_reply.started": "2023-05-30T07:59:33.725826Z",
          "shell.execute_reply": "2023-05-30T07:59:33.778498Z"
        },
        "trusted": true,
        "colab": {
          "base_uri": "https://localhost:8080/"
        },
        "id": "bG5s2vROwJwd",
        "outputId": "30aa812c-1dbc-405a-ac3e-c901bbd004fa"
      },
      "execution_count": 59,
      "outputs": [
        {
          "output_type": "execute_result",
          "data": {
            "text/plain": [
              "ID                     0\n",
              "RegistrationDate       0\n",
              "Deposit                0\n",
              "UpsellDate             0\n",
              "AccessoryRate          0\n",
              "PaymentMethod          0\n",
              "rateTypeEntity         0\n",
              "RatePerUnit            0\n",
              "DaysOnDeposit          0\n",
              "MainApplicantGender    0\n",
              "Age                    0\n",
              "Region                 0\n",
              "Town                   0\n",
              "Occupation             0\n",
              "SupplierName           0\n",
              "Term                   0\n",
              "TotalContractValue     0\n",
              "ExpectedTermDate       0\n",
              "FirstPaymentDate       0\n",
              "LastPaymentDate        0\n",
              "TransactionDates       0\n",
              "PaymentsHistory        0\n",
              "m1                     0\n",
              "m2                     0\n",
              "m3                     0\n",
              "m4                     0\n",
              "m5                     0\n",
              "m6                     0\n",
              "Target                 0\n",
              "dtype: int64"
            ]
          },
          "metadata": {},
          "execution_count": 59
        }
      ],
      "id": "bG5s2vROwJwd"
    },
    {
      "cell_type": "markdown",
      "source": [
        "### Features extraction"
      ],
      "metadata": {
        "id": "49SYhVxewJwd"
      },
      "id": "49SYhVxewJwd"
    },
    {
      "cell_type": "code",
      "source": [
        "merged_ = extract_features(df=merged_)\n",
        "merged_.head(n=2)"
      ],
      "metadata": {
        "tags": [],
        "execution": {
          "iopub.status.busy": "2023-05-30T07:59:37.664570Z",
          "iopub.execute_input": "2023-05-30T07:59:37.664927Z",
          "iopub.status.idle": "2023-05-30T07:59:37.721792Z",
          "shell.execute_reply.started": "2023-05-30T07:59:37.664898Z",
          "shell.execute_reply": "2023-05-30T07:59:37.720735Z"
        },
        "trusted": true,
        "colab": {
          "base_uri": "https://localhost:8080/",
          "height": 240
        },
        "id": "svZPhxRTwJwd",
        "outputId": "d52f97f1-94bf-4007-d351-c8cdf5a8205a"
      },
      "execution_count": 60,
      "outputs": [
        {
          "output_type": "execute_result",
          "data": {
            "text/plain": [
              "           ID RegistrationDate  Deposit UpsellDate  AccessoryRate  \\\n",
              "0  ID_K00S4N4       2015-12-10     2000       None            0.0   \n",
              "1  ID_6L67PAA       2015-12-09     2000       None            0.0   \n",
              "\n",
              "   PaymentMethod  rateTypeEntity  RatePerUnit  DaysOnDeposit  \\\n",
              "0              0               0           35              7   \n",
              "1              0               0           35              7   \n",
              "\n",
              "   MainApplicantGender  ...  TotalContractValue  ExpectedTermDate  \\\n",
              "0                    1  ...             14740.0        2020-12-03   \n",
              "1                    1  ...             14740.0        2020-12-02   \n",
              "\n",
              "     FirstPaymentDate     LastPaymentDate  Target  RegisteredInLeapYear  \\\n",
              "0 2015-12-10 09:52:35 2016-10-23 04:52:30     1.0                   0.0   \n",
              "1 2015-12-09 13:14:03 2020-05-24 15:32:18     0.0                   0.0   \n",
              "\n",
              "   RegisteredAtMonthStart RegisteredAtMonthEnd LastPaymentMonth  \\\n",
              "0                     0.0                  0.0               10   \n",
              "1                     0.0                  0.0                5   \n",
              "\n",
              "  FirstPaymentMonth  \n",
              "0                12  \n",
              "1                12  \n",
              "\n",
              "[2 rows x 26 columns]"
            ],
            "text/html": [
              "\n",
              "  <div id=\"df-4403e03a-d6ef-4f46-a139-3faa38f7ab36\">\n",
              "    <div class=\"colab-df-container\">\n",
              "      <div>\n",
              "<style scoped>\n",
              "    .dataframe tbody tr th:only-of-type {\n",
              "        vertical-align: middle;\n",
              "    }\n",
              "\n",
              "    .dataframe tbody tr th {\n",
              "        vertical-align: top;\n",
              "    }\n",
              "\n",
              "    .dataframe thead th {\n",
              "        text-align: right;\n",
              "    }\n",
              "</style>\n",
              "<table border=\"1\" class=\"dataframe\">\n",
              "  <thead>\n",
              "    <tr style=\"text-align: right;\">\n",
              "      <th></th>\n",
              "      <th>ID</th>\n",
              "      <th>RegistrationDate</th>\n",
              "      <th>Deposit</th>\n",
              "      <th>UpsellDate</th>\n",
              "      <th>AccessoryRate</th>\n",
              "      <th>PaymentMethod</th>\n",
              "      <th>rateTypeEntity</th>\n",
              "      <th>RatePerUnit</th>\n",
              "      <th>DaysOnDeposit</th>\n",
              "      <th>MainApplicantGender</th>\n",
              "      <th>...</th>\n",
              "      <th>TotalContractValue</th>\n",
              "      <th>ExpectedTermDate</th>\n",
              "      <th>FirstPaymentDate</th>\n",
              "      <th>LastPaymentDate</th>\n",
              "      <th>Target</th>\n",
              "      <th>RegisteredInLeapYear</th>\n",
              "      <th>RegisteredAtMonthStart</th>\n",
              "      <th>RegisteredAtMonthEnd</th>\n",
              "      <th>LastPaymentMonth</th>\n",
              "      <th>FirstPaymentMonth</th>\n",
              "    </tr>\n",
              "  </thead>\n",
              "  <tbody>\n",
              "    <tr>\n",
              "      <th>0</th>\n",
              "      <td>ID_K00S4N4</td>\n",
              "      <td>2015-12-10</td>\n",
              "      <td>2000</td>\n",
              "      <td>None</td>\n",
              "      <td>0.0</td>\n",
              "      <td>0</td>\n",
              "      <td>0</td>\n",
              "      <td>35</td>\n",
              "      <td>7</td>\n",
              "      <td>1</td>\n",
              "      <td>...</td>\n",
              "      <td>14740.0</td>\n",
              "      <td>2020-12-03</td>\n",
              "      <td>2015-12-10 09:52:35</td>\n",
              "      <td>2016-10-23 04:52:30</td>\n",
              "      <td>1.0</td>\n",
              "      <td>0.0</td>\n",
              "      <td>0.0</td>\n",
              "      <td>0.0</td>\n",
              "      <td>10</td>\n",
              "      <td>12</td>\n",
              "    </tr>\n",
              "    <tr>\n",
              "      <th>1</th>\n",
              "      <td>ID_6L67PAA</td>\n",
              "      <td>2015-12-09</td>\n",
              "      <td>2000</td>\n",
              "      <td>None</td>\n",
              "      <td>0.0</td>\n",
              "      <td>0</td>\n",
              "      <td>0</td>\n",
              "      <td>35</td>\n",
              "      <td>7</td>\n",
              "      <td>1</td>\n",
              "      <td>...</td>\n",
              "      <td>14740.0</td>\n",
              "      <td>2020-12-02</td>\n",
              "      <td>2015-12-09 13:14:03</td>\n",
              "      <td>2020-05-24 15:32:18</td>\n",
              "      <td>0.0</td>\n",
              "      <td>0.0</td>\n",
              "      <td>0.0</td>\n",
              "      <td>0.0</td>\n",
              "      <td>5</td>\n",
              "      <td>12</td>\n",
              "    </tr>\n",
              "  </tbody>\n",
              "</table>\n",
              "<p>2 rows × 26 columns</p>\n",
              "</div>\n",
              "      <button class=\"colab-df-convert\" onclick=\"convertToInteractive('df-4403e03a-d6ef-4f46-a139-3faa38f7ab36')\"\n",
              "              title=\"Convert this dataframe to an interactive table.\"\n",
              "              style=\"display:none;\">\n",
              "        \n",
              "  <svg xmlns=\"http://www.w3.org/2000/svg\" height=\"24px\"viewBox=\"0 0 24 24\"\n",
              "       width=\"24px\">\n",
              "    <path d=\"M0 0h24v24H0V0z\" fill=\"none\"/>\n",
              "    <path d=\"M18.56 5.44l.94 2.06.94-2.06 2.06-.94-2.06-.94-.94-2.06-.94 2.06-2.06.94zm-11 1L8.5 8.5l.94-2.06 2.06-.94-2.06-.94L8.5 2.5l-.94 2.06-2.06.94zm10 10l.94 2.06.94-2.06 2.06-.94-2.06-.94-.94-2.06-.94 2.06-2.06.94z\"/><path d=\"M17.41 7.96l-1.37-1.37c-.4-.4-.92-.59-1.43-.59-.52 0-1.04.2-1.43.59L10.3 9.45l-7.72 7.72c-.78.78-.78 2.05 0 2.83L4 21.41c.39.39.9.59 1.41.59.51 0 1.02-.2 1.41-.59l7.78-7.78 2.81-2.81c.8-.78.8-2.07 0-2.86zM5.41 20L4 18.59l7.72-7.72 1.47 1.35L5.41 20z\"/>\n",
              "  </svg>\n",
              "      </button>\n",
              "      \n",
              "  <style>\n",
              "    .colab-df-container {\n",
              "      display:flex;\n",
              "      flex-wrap:wrap;\n",
              "      gap: 12px;\n",
              "    }\n",
              "\n",
              "    .colab-df-convert {\n",
              "      background-color: #E8F0FE;\n",
              "      border: none;\n",
              "      border-radius: 50%;\n",
              "      cursor: pointer;\n",
              "      display: none;\n",
              "      fill: #1967D2;\n",
              "      height: 32px;\n",
              "      padding: 0 0 0 0;\n",
              "      width: 32px;\n",
              "    }\n",
              "\n",
              "    .colab-df-convert:hover {\n",
              "      background-color: #E2EBFA;\n",
              "      box-shadow: 0px 1px 2px rgba(60, 64, 67, 0.3), 0px 1px 3px 1px rgba(60, 64, 67, 0.15);\n",
              "      fill: #174EA6;\n",
              "    }\n",
              "\n",
              "    [theme=dark] .colab-df-convert {\n",
              "      background-color: #3B4455;\n",
              "      fill: #D2E3FC;\n",
              "    }\n",
              "\n",
              "    [theme=dark] .colab-df-convert:hover {\n",
              "      background-color: #434B5C;\n",
              "      box-shadow: 0px 1px 3px 1px rgba(0, 0, 0, 0.15);\n",
              "      filter: drop-shadow(0px 1px 2px rgba(0, 0, 0, 0.3));\n",
              "      fill: #FFFFFF;\n",
              "    }\n",
              "  </style>\n",
              "\n",
              "      <script>\n",
              "        const buttonEl =\n",
              "          document.querySelector('#df-4403e03a-d6ef-4f46-a139-3faa38f7ab36 button.colab-df-convert');\n",
              "        buttonEl.style.display =\n",
              "          google.colab.kernel.accessAllowed ? 'block' : 'none';\n",
              "\n",
              "        async function convertToInteractive(key) {\n",
              "          const element = document.querySelector('#df-4403e03a-d6ef-4f46-a139-3faa38f7ab36');\n",
              "          const dataTable =\n",
              "            await google.colab.kernel.invokeFunction('convertToInteractive',\n",
              "                                                     [key], {});\n",
              "          if (!dataTable) return;\n",
              "\n",
              "          const docLinkHtml = 'Like what you see? Visit the ' +\n",
              "            '<a target=\"_blank\" href=https://colab.research.google.com/notebooks/data_table.ipynb>data table notebook</a>'\n",
              "            + ' to learn more about interactive tables.';\n",
              "          element.innerHTML = '';\n",
              "          dataTable['output_type'] = 'display_data';\n",
              "          await google.colab.output.renderOutput(dataTable, element);\n",
              "          const docLink = document.createElement('div');\n",
              "          docLink.innerHTML = docLinkHtml;\n",
              "          element.appendChild(docLink);\n",
              "        }\n",
              "      </script>\n",
              "    </div>\n",
              "  </div>\n",
              "  "
            ]
          },
          "metadata": {},
          "execution_count": 60
        }
      ],
      "id": "svZPhxRTwJwd"
    },
    {
      "cell_type": "code",
      "source": [
        "selected_features = [c for c in merged_.columns[1:] if \"Date\" not in c]\n",
        "xtrain_loan = merged_[selected_features]\n",
        "ytrain_loan = merged_.Target\n",
        "## Split\n",
        "xtrain_loan, xval_loan, ytrain_loan, yval_loan = train_test_split(\n",
        "    xtrain_loan, \n",
        "    ytrain_loan, \n",
        "    test_size=.15, \n",
        "    random_state=42, \n",
        "    shuffle=True\n",
        ")\n",
        "scaler = StandardScaler()\n",
        "##Fit scaler\n",
        "scaler.fit(X=xtrain_loan.values)\n",
        "\n",
        "## Scale data\n",
        "xtrain_loan = scaler.transform(X=xtrain_loan.values)\n",
        "xval_loan = scaler.transform(X=xval_loan.values)\n",
        "\n",
        "print(f\"> Training inputs shape : {xtrain_loan.shape}, Training targets shape : {ytrain_loan.shape}\")\n",
        "print(f\"> Validation inputs shape : {xval_loan.shape}, Training targets shape : {yval_loan.shape}\")"
      ],
      "metadata": {
        "tags": [],
        "execution": {
          "iopub.status.busy": "2023-05-30T07:59:56.596531Z",
          "iopub.execute_input": "2023-05-30T07:59:56.597391Z",
          "iopub.status.idle": "2023-05-30T07:59:56.628395Z",
          "shell.execute_reply.started": "2023-05-30T07:59:56.597346Z",
          "shell.execute_reply": "2023-05-30T07:59:56.627472Z"
        },
        "trusted": true,
        "colab": {
          "base_uri": "https://localhost:8080/"
        },
        "id": "COvadT23wJwd",
        "outputId": "c7b0c628-767a-4baf-8ce5-c8efaf087de7"
      },
      "execution_count": 61,
      "outputs": [
        {
          "output_type": "stream",
          "name": "stdout",
          "text": [
            "> Training inputs shape : (31741, 20), Training targets shape : (31741,)\n",
            "> Validation inputs shape : (5602, 20), Training targets shape : (5602,)\n"
          ]
        }
      ],
      "id": "COvadT23wJwd"
    },
    {
      "cell_type": "markdown",
      "source": [
        "### Train/Val split"
      ],
      "metadata": {
        "id": "o3r1cB-swJwd"
      },
      "id": "o3r1cB-swJwd"
    },
    {
      "cell_type": "code",
      "source": [
        "train, max_len = pad_history(df=train, max_len=41)\n",
        "\n",
        "xtrain = train.PaymentsHistory.values\n",
        "ytrain = train[train.columns[-6:]].values\n",
        "\n",
        "xs = np.array(xtrain.tolist()).reshape((xtrain.shape[0], 1, max_len))\n",
        "ys = np.array(ytrain.tolist()).reshape((ytrain.shape[0], 1, 6))\n",
        "\n",
        "train_ds = tf.data.Dataset.from_tensor_slices((xs, ys))"
      ],
      "metadata": {
        "tags": [],
        "execution": {
          "iopub.status.busy": "2023-05-30T08:00:06.345487Z",
          "iopub.execute_input": "2023-05-30T08:00:06.345855Z",
          "iopub.status.idle": "2023-05-30T08:00:15.130867Z",
          "shell.execute_reply.started": "2023-05-30T08:00:06.345825Z",
          "shell.execute_reply": "2023-05-30T08:00:15.129899Z"
        },
        "trusted": true,
        "id": "fUA1U278wJwd"
      },
      "execution_count": 62,
      "outputs": [],
      "id": "fUA1U278wJwd"
    },
    {
      "cell_type": "code",
      "source": [
        "for sample in train_ds:\n",
        "    print(sample)\n",
        "    break"
      ],
      "metadata": {
        "tags": [],
        "execution": {
          "iopub.status.busy": "2023-05-30T08:00:15.132689Z",
          "iopub.execute_input": "2023-05-30T08:00:15.133013Z",
          "iopub.status.idle": "2023-05-30T08:00:15.192116Z",
          "shell.execute_reply.started": "2023-05-30T08:00:15.132988Z",
          "shell.execute_reply": "2023-05-30T08:00:15.191208Z"
        },
        "trusted": true,
        "colab": {
          "base_uri": "https://localhost:8080/"
        },
        "id": "j0vxvKotwJwd",
        "outputId": "b208279f-c9de-4cba-a4c0-8b8e902a3ff3"
      },
      "execution_count": 63,
      "outputs": [
        {
          "output_type": "stream",
          "name": "stdout",
          "text": [
            "(<tf.Tensor: shape=(1, 41), dtype=float64, numpy=\n",
            "array([[3600.,  750.,  350.,   65.,   95.,  135.,   85.,   55.,  345.,\n",
            "         155.,   55.,  630.,  585.,  185.,  440.,  483.,  660.,  515.,\n",
            "         292.,  505.,  210.,  120.,  260.,  610.,  230.,  390.,  660.,\n",
            "        1200., 1320.,  280.,  770.,    0.,    0.,    0.,    0.,    0.,\n",
            "           0.,    0.,    0.,    0.,    0.]])>, <tf.Tensor: shape=(1, 6), dtype=float64, numpy=array([[880., 930., 495., 715., 220., 385.]])>)\n"
          ]
        }
      ],
      "id": "j0vxvKotwJwd"
    },
    {
      "cell_type": "markdown",
      "source": [
        "## Modelling"
      ],
      "metadata": {
        "id": "xtpXcSb5wJwe"
      },
      "id": "xtpXcSb5wJwe"
    },
    {
      "cell_type": "code",
      "source": [
        "def build_model():\n",
        "    \n",
        "    payments_inp = keras.Input(shape=(41), name=\"payments_inputs\")\n",
        "    status_inp = keras.Input(shape=(xtrain_loan.shape[1]), name=\"status_inputs\")\n",
        "    \n",
        "    x1 = keras.layers.Dense(35, activation=\"sigmoid\", name=\"x1\")(status_inp)\n",
        "    out1 = keras.layers.Dense(1, name=\"loan_status_out\")(x1)\n",
        "    \n",
        "    \n",
        "    x2 = keras.layers.Dense(20, activation=\"sigmoid\", name=\"x2\")(payments_inp)\n",
        "    x2_out = keras.layers.Dense(30, activation=\"sigmoid\", name=\"payment_out\")(x2)\n",
        "    \n",
        "    concat = keras.layers.Concatenate(name=\"concat_layer\")([out1, x2_out])\n",
        "    out2 = keras.layers.Dense(6, name=\"out\")(concat)\n",
        "    \n",
        "    # Model\n",
        "    model = keras.Model(inputs=[payments_inp, status_inp], outputs=[out1, out2])\n",
        "    \n",
        "    opt = keras.optimizers.Adam(learning_rate=0.0001)\n",
        "    wgt = {\"out1\":.7, \"out2\":.3}\n",
        "    \n",
        "    model.compile(\n",
        "        loss=\"mean_squared_error\",\n",
        "        optimizer=opt,\n",
        "        loss_weights=wgt\n",
        "    )\n",
        "\n",
        "    model.summary()\n",
        "    \n",
        "    return model\n",
        "\n",
        "\n",
        "def build_simple_model():\n",
        "    \n",
        "    payments_inp = keras.Input(shape=(41), name=\"payments_inputs\")\n",
        "\n",
        "    x = keras.layers.Dense(35, activation=\"relu\", name=\"x2\")(payments_inp)\n",
        "    x_out = keras.layers.Dense(50, activation=\"relu\", name=\"payment_out\")(x)\n",
        "    \n",
        "    out = keras.layers.Dense(6, name=\"out\")(x)\n",
        "    \n",
        "    # Model\n",
        "    model = keras.Model(inputs=[payments_inp], outputs=[out])\n",
        "    \n",
        "    opt = keras.optimizers.Adam(learning_rate=0.0001)\n",
        "    model.compile(\n",
        "        loss=\"mean_squared_error\",\n",
        "        optimizer=opt,\n",
        "    )\n",
        "\n",
        "    model.summary()\n",
        "    \n",
        "    return model\n",
        "\n",
        "\n",
        "def build_status_model():\n",
        "    \n",
        "    status_inp = keras.Input(shape=(xtrain_loan.shape[1]), name=\"status_inputs\")\n",
        "\n",
        "    x = keras.layers.Dense(30, activation=\"relu\", name=\"x2\")(status_inp)\n",
        "    x_out = keras.layers.Dense(45, activation=\"relu\", name=\"statut_out\")(x)\n",
        "    \n",
        "    out = keras.layers.Dense(6, name=\"out\")(x)\n",
        "    \n",
        "    # Model\n",
        "    model = keras.Model(inputs=[status_inp], outputs=[out])\n",
        "    \n",
        "    opt = keras.optimizers.Adam(learning_rate=0.0001)\n",
        "    \n",
        "    model.compile(\n",
        "        loss=\"mean_squared_error\",\n",
        "        optimizer=opt,\n",
        "    )\n",
        "\n",
        "    model.summary()\n",
        "    \n",
        "    return model"
      ],
      "metadata": {
        "tags": [],
        "execution": {
          "iopub.status.busy": "2023-05-30T08:00:19.826897Z",
          "iopub.execute_input": "2023-05-30T08:00:19.827259Z",
          "iopub.status.idle": "2023-05-30T08:00:19.843273Z",
          "shell.execute_reply.started": "2023-05-30T08:00:19.827230Z",
          "shell.execute_reply": "2023-05-30T08:00:19.842245Z"
        },
        "trusted": true,
        "id": "wV0O7wMgwJwe"
      },
      "execution_count": 64,
      "outputs": [],
      "id": "wV0O7wMgwJwe"
    },
    {
      "cell_type": "code",
      "source": [
        "model = build_simple_model()#build_model()#"
      ],
      "metadata": {
        "execution": {
          "iopub.status.busy": "2023-05-30T08:00:32.055032Z",
          "iopub.execute_input": "2023-05-30T08:00:32.055401Z",
          "iopub.status.idle": "2023-05-30T08:00:32.169533Z",
          "shell.execute_reply.started": "2023-05-30T08:00:32.055371Z",
          "shell.execute_reply": "2023-05-30T08:00:32.168796Z"
        },
        "trusted": true,
        "colab": {
          "base_uri": "https://localhost:8080/"
        },
        "id": "RTiKvcuiwJwe",
        "outputId": "8f4008d0-d82e-402e-ad94-0755b6c1b894"
      },
      "execution_count": 65,
      "outputs": [
        {
          "output_type": "stream",
          "name": "stdout",
          "text": [
            "Model: \"model_1\"\n",
            "_________________________________________________________________\n",
            " Layer (type)                Output Shape              Param #   \n",
            "=================================================================\n",
            " payments_inputs (InputLayer  [(None, 41)]             0         \n",
            " )                                                               \n",
            "                                                                 \n",
            " x2 (Dense)                  (None, 35)                1470      \n",
            "                                                                 \n",
            " out (Dense)                 (None, 6)                 216       \n",
            "                                                                 \n",
            "=================================================================\n",
            "Total params: 1,686\n",
            "Trainable params: 1,686\n",
            "Non-trainable params: 0\n",
            "_________________________________________________________________\n"
          ]
        }
      ],
      "id": "RTiKvcuiwJwe"
    },
    {
      "cell_type": "code",
      "source": [
        "tf.keras.utils.plot_model(\n",
        "        model,\n",
        "        to_file=\"../model.png\", \n",
        "        show_shapes=True\n",
        "    )"
      ],
      "metadata": {
        "tags": [],
        "execution": {
          "iopub.status.busy": "2023-05-30T08:00:45.735456Z",
          "iopub.execute_input": "2023-05-30T08:00:45.735812Z",
          "iopub.status.idle": "2023-05-30T08:00:45.869587Z",
          "shell.execute_reply.started": "2023-05-30T08:00:45.735782Z",
          "shell.execute_reply": "2023-05-30T08:00:45.868697Z"
        },
        "trusted": true,
        "colab": {
          "base_uri": "https://localhost:8080/",
          "height": 312
        },
        "id": "PZbibc1mwJwe",
        "outputId": "8b57b731-3d6d-4137-f83e-8e1caa768229"
      },
      "execution_count": 66,
      "outputs": [
        {
          "output_type": "execute_result",
          "data": {
            "image/png": "[encoded data removed]",
            "text/plain": [
              "<IPython.core.display.Image object>"
            ]
          },
          "metadata": {},
          "execution_count": 66
        }
      ],
      "id": "PZbibc1mwJwe"
    },
    {
      "cell_type": "markdown",
      "source": [
        "## Learning phase"
      ],
      "metadata": {
        "id": "u8-xwcbXwJwe"
      },
      "id": "u8-xwcbXwJwe"
    },
    {
      "cell_type": "code",
      "source": [
        "model.fit(train_ds, batch_size=16, epochs=15)"
      ],
      "metadata": {
        "colab": {
          "base_uri": "https://localhost:8080/"
        },
        "id": "PDWtLDYMxCQb",
        "outputId": "64e8d93e-cd26-46b3-dcb3-3ac8319b0473"
      },
      "id": "PDWtLDYMxCQb",
      "execution_count": 67,
      "outputs": [
        {
          "output_type": "stream",
          "name": "stdout",
          "text": [
            "Epoch 1/15\n",
            "28007/28007 [==============================] - 43s 2ms/step - loss: 733176.2500\n",
            "Epoch 2/15\n",
            "28007/28007 [==============================] - 44s 2ms/step - loss: 667714.9375\n",
            "Epoch 3/15\n",
            "28007/28007 [==============================] - 41s 1ms/step - loss: 655794.0000\n",
            "Epoch 4/15\n",
            "28007/28007 [==============================] - 42s 1ms/step - loss: 649085.5625\n",
            "Epoch 5/15\n",
            "28007/28007 [==============================] - 42s 1ms/step - loss: 644634.7500\n",
            "Epoch 6/15\n",
            "28007/28007 [==============================] - 41s 1ms/step - loss: 641412.4375\n",
            "Epoch 7/15\n",
            "28007/28007 [==============================] - 42s 1ms/step - loss: 638885.5000\n",
            "Epoch 8/15\n",
            "28007/28007 [==============================] - 42s 1ms/step - loss: 636665.3125\n",
            "Epoch 9/15\n",
            "28007/28007 [==============================] - 42s 1ms/step - loss: 634926.8750\n",
            "Epoch 10/15\n",
            "28007/28007 [==============================] - 42s 1ms/step - loss: 633409.2500\n",
            "Epoch 11/15\n",
            "28007/28007 [==============================] - 43s 2ms/step - loss: 632133.0000\n",
            "Epoch 12/15\n",
            "28007/28007 [==============================] - 42s 1ms/step - loss: 631021.9375\n",
            "Epoch 13/15\n",
            "28007/28007 [==============================] - 41s 1ms/step - loss: 630089.7500\n",
            "Epoch 14/15\n",
            "28007/28007 [==============================] - 42s 1ms/step - loss: 629379.8125\n",
            "Epoch 15/15\n",
            "28007/28007 [==============================] - 41s 1ms/step - loss: 628679.6250\n"
          ]
        },
        {
          "output_type": "execute_result",
          "data": {
            "text/plain": [
              "<keras.callbacks.History at 0x7efc42ea91b0>"
            ]
          },
          "metadata": {},
          "execution_count": 67
        }
      ]
    },
    {
      "cell_type": "markdown",
      "source": [
        "## Eval/Inference time"
      ],
      "metadata": {
        "id": "TVna757ZwJwl"
      },
      "id": "TVna757ZwJwl"
    },
    {
      "cell_type": "code",
      "source": [
        "def predict(test:pd.DataFrame):\n",
        "    test, max_len = pad_history(df=test, max_len=41)\n",
        "\n",
        "    xtest = test.PaymentsHistory.values\n",
        "    xtest = np.array(xtest.tolist()).reshape((xtest.shape[0], 1, max_len))\n",
        "    \n",
        "    test_ds = tf.data.Dataset.from_tensor_slices(xtest)\n",
        "    preds = model.predict(test_ds)\n",
        "    \n",
        "    assert preds.shape[0] == test.shape[0], f\"Shape mismatch, {preds.shape[0]} predictions found while test set has {test.shape[0]} rows\"\n",
        "    \n",
        "    return preds.flatten()"
      ],
      "metadata": {
        "tags": [],
        "execution": {
          "iopub.status.busy": "2023-05-30T08:15:56.072763Z",
          "iopub.execute_input": "2023-05-30T08:15:56.073108Z",
          "iopub.status.idle": "2023-05-30T08:15:56.079639Z",
          "shell.execute_reply.started": "2023-05-30T08:15:56.073081Z",
          "shell.execute_reply": "2023-05-30T08:15:56.078498Z"
        },
        "trusted": true,
        "id": "2rUVlHG2wJwl"
      },
      "execution_count": 68,
      "outputs": [],
      "id": "2rUVlHG2wJwl"
    },
    {
      "cell_type": "code",
      "source": [
        "preds = predict(test=test)"
      ],
      "metadata": {
        "tags": [],
        "execution": {
          "iopub.status.busy": "2023-05-30T08:15:57.823054Z",
          "iopub.execute_input": "2023-05-30T08:15:57.823409Z",
          "iopub.status.idle": "2023-05-30T08:16:18.529869Z",
          "shell.execute_reply.started": "2023-05-30T08:15:57.823381Z",
          "shell.execute_reply": "2023-05-30T08:16:18.528904Z"
        },
        "trusted": true,
        "colab": {
          "base_uri": "https://localhost:8080/"
        },
        "id": "6NumztU4wJwl",
        "outputId": "e92d29b7-905c-48fd-90b9-c36e906789bf"
      },
      "execution_count": 69,
      "outputs": [
        {
          "output_type": "stream",
          "name": "stdout",
          "text": [
            "9336/9336 [==============================] - 11s 1ms/step\n"
          ]
        }
      ],
      "id": "6NumztU4wJwl"
    },
    {
      "cell_type": "code",
      "source": [
        "preds.shape, ss.shape"
      ],
      "metadata": {
        "tags": [],
        "execution": {
          "iopub.status.busy": "2023-05-30T08:16:18.532007Z",
          "iopub.execute_input": "2023-05-30T08:16:18.532595Z",
          "iopub.status.idle": "2023-05-30T08:16:18.539181Z",
          "shell.execute_reply.started": "2023-05-30T08:16:18.532561Z",
          "shell.execute_reply": "2023-05-30T08:16:18.538247Z"
        },
        "trusted": true,
        "colab": {
          "base_uri": "https://localhost:8080/"
        },
        "id": "8fkoUAXbwJwl",
        "outputId": "94bcbc43-fb1d-464d-aecc-85e01aee9204"
      },
      "execution_count": 70,
      "outputs": [
        {
          "output_type": "execute_result",
          "data": {
            "text/plain": [
              "((56016,), (56016, 2))"
            ]
          },
          "metadata": {},
          "execution_count": 70
        }
      ],
      "id": "8fkoUAXbwJwl"
    },
    {
      "cell_type": "markdown",
      "source": [
        "## Create submission"
      ],
      "metadata": {
        "id": "6HgSQhPmwJwl"
      },
      "id": "6HgSQhPmwJwl"
    },
    {
      "cell_type": "code",
      "source": [
        "ss.head(n=12)"
      ],
      "metadata": {
        "execution": {
          "iopub.status.busy": "2023-05-30T08:16:25.486522Z",
          "iopub.execute_input": "2023-05-30T08:16:25.487677Z",
          "iopub.status.idle": "2023-05-30T08:16:25.501526Z",
          "shell.execute_reply.started": "2023-05-30T08:16:25.487633Z",
          "shell.execute_reply": "2023-05-30T08:16:25.500209Z"
        },
        "trusted": true,
        "id": "S3_umi3jwJwl",
        "outputId": "5a99dfb1-af6b-43e6-bb31-4a91e7048b92"
      },
      "execution_count": null,
      "outputs": [
        {
          "execution_count": 33,
          "output_type": "execute_result",
          "data": {
            "text/plain": "                 ID  Target\n0   ID_6L67PAA x m1     0.0\n1   ID_6L67PAA x m2     0.0\n2   ID_6L67PAA x m3     0.0\n3   ID_6L67PAA x m4     0.0\n4   ID_6L67PAA x m5     0.0\n5   ID_6L67PAA x m6     0.0\n6   ID_VJ80SX2 x m1     0.0\n7   ID_VJ80SX2 x m2     0.0\n8   ID_VJ80SX2 x m3     0.0\n9   ID_VJ80SX2 x m4     0.0\n10  ID_VJ80SX2 x m5     0.0\n11  ID_VJ80SX2 x m6     0.0",
            "text/html": "<div>\n<style scoped>\n    .dataframe tbody tr th:only-of-type {\n        vertical-align: middle;\n    }\n\n    .dataframe tbody tr th {\n        vertical-align: top;\n    }\n\n    .dataframe thead th {\n        text-align: right;\n    }\n</style>\n<table border=\"1\" class=\"dataframe\">\n  <thead>\n    <tr style=\"text-align: right;\">\n      <th></th>\n      <th>ID</th>\n      <th>Target</th>\n    </tr>\n  </thead>\n  <tbody>\n    <tr>\n      <th>0</th>\n      <td>ID_6L67PAA x m1</td>\n      <td>0.0</td>\n    </tr>\n    <tr>\n      <th>1</th>\n      <td>ID_6L67PAA x m2</td>\n      <td>0.0</td>\n    </tr>\n    <tr>\n      <th>2</th>\n      <td>ID_6L67PAA x m3</td>\n      <td>0.0</td>\n    </tr>\n    <tr>\n      <th>3</th>\n      <td>ID_6L67PAA x m4</td>\n      <td>0.0</td>\n    </tr>\n    <tr>\n      <th>4</th>\n      <td>ID_6L67PAA x m5</td>\n      <td>0.0</td>\n    </tr>\n    <tr>\n      <th>5</th>\n      <td>ID_6L67PAA x m6</td>\n      <td>0.0</td>\n    </tr>\n    <tr>\n      <th>6</th>\n      <td>ID_VJ80SX2 x m1</td>\n      <td>0.0</td>\n    </tr>\n    <tr>\n      <th>7</th>\n      <td>ID_VJ80SX2 x m2</td>\n      <td>0.0</td>\n    </tr>\n    <tr>\n      <th>8</th>\n      <td>ID_VJ80SX2 x m3</td>\n      <td>0.0</td>\n    </tr>\n    <tr>\n      <th>9</th>\n      <td>ID_VJ80SX2 x m4</td>\n      <td>0.0</td>\n    </tr>\n    <tr>\n      <th>10</th>\n      <td>ID_VJ80SX2 x m5</td>\n      <td>0.0</td>\n    </tr>\n    <tr>\n      <th>11</th>\n      <td>ID_VJ80SX2 x m6</td>\n      <td>0.0</td>\n    </tr>\n  </tbody>\n</table>\n</div>"
          },
          "metadata": {}
        }
      ],
      "id": "S3_umi3jwJwl"
    },
    {
      "cell_type": "code",
      "source": [
        "ss[\"Target\"] = preds"
      ],
      "metadata": {
        "tags": [],
        "execution": {
          "iopub.status.busy": "2023-05-30T08:16:40.573461Z",
          "iopub.execute_input": "2023-05-30T08:16:40.574117Z",
          "iopub.status.idle": "2023-05-30T08:16:40.579214Z",
          "shell.execute_reply.started": "2023-05-30T08:16:40.574085Z",
          "shell.execute_reply": "2023-05-30T08:16:40.578300Z"
        },
        "trusted": true,
        "id": "EFTw-5hXwJwl"
      },
      "execution_count": 71,
      "outputs": [],
      "id": "EFTw-5hXwJwl"
    },
    {
      "cell_type": "code",
      "source": [
        "ss.head(n=12)"
      ],
      "metadata": {
        "colab": {
          "base_uri": "https://localhost:8080/",
          "height": 426
        },
        "id": "2yLEiE1ky_aq",
        "outputId": "9ab57ce5-5323-4912-e88a-bcd4aa6ad052"
      },
      "id": "2yLEiE1ky_aq",
      "execution_count": 72,
      "outputs": [
        {
          "output_type": "execute_result",
          "data": {
            "text/plain": [
              "                 ID      Target\n",
              "0   ID_6L67PAA x m1  980.954163\n",
              "1   ID_6L67PAA x m2  964.672729\n",
              "2   ID_6L67PAA x m3  914.256531\n",
              "3   ID_6L67PAA x m4  928.381653\n",
              "4   ID_6L67PAA x m5  924.758789\n",
              "5   ID_6L67PAA x m6  753.508667\n",
              "6   ID_VJ80SX2 x m1  962.031250\n",
              "7   ID_VJ80SX2 x m2  939.321106\n",
              "8   ID_VJ80SX2 x m3  897.650818\n",
              "9   ID_VJ80SX2 x m4  940.213501\n",
              "10  ID_VJ80SX2 x m5  927.538391\n",
              "11  ID_VJ80SX2 x m6  812.100464"
            ],
            "text/html": [
              "\n",
              "  <div id=\"df-ecdf85a3-4ced-421b-8102-0b17c077716a\">\n",
              "    <div class=\"colab-df-container\">\n",
              "      <div>\n",
              "<style scoped>\n",
              "    .dataframe tbody tr th:only-of-type {\n",
              "        vertical-align: middle;\n",
              "    }\n",
              "\n",
              "    .dataframe tbody tr th {\n",
              "        vertical-align: top;\n",
              "    }\n",
              "\n",
              "    .dataframe thead th {\n",
              "        text-align: right;\n",
              "    }\n",
              "</style>\n",
              "<table border=\"1\" class=\"dataframe\">\n",
              "  <thead>\n",
              "    <tr style=\"text-align: right;\">\n",
              "      <th></th>\n",
              "      <th>ID</th>\n",
              "      <th>Target</th>\n",
              "    </tr>\n",
              "  </thead>\n",
              "  <tbody>\n",
              "    <tr>\n",
              "      <th>0</th>\n",
              "      <td>ID_6L67PAA x m1</td>\n",
              "      <td>980.954163</td>\n",
              "    </tr>\n",
              "    <tr>\n",
              "      <th>1</th>\n",
              "      <td>ID_6L67PAA x m2</td>\n",
              "      <td>964.672729</td>\n",
              "    </tr>\n",
              "    <tr>\n",
              "      <th>2</th>\n",
              "      <td>ID_6L67PAA x m3</td>\n",
              "      <td>914.256531</td>\n",
              "    </tr>\n",
              "    <tr>\n",
              "      <th>3</th>\n",
              "      <td>ID_6L67PAA x m4</td>\n",
              "      <td>928.381653</td>\n",
              "    </tr>\n",
              "    <tr>\n",
              "      <th>4</th>\n",
              "      <td>ID_6L67PAA x m5</td>\n",
              "      <td>924.758789</td>\n",
              "    </tr>\n",
              "    <tr>\n",
              "      <th>5</th>\n",
              "      <td>ID_6L67PAA x m6</td>\n",
              "      <td>753.508667</td>\n",
              "    </tr>\n",
              "    <tr>\n",
              "      <th>6</th>\n",
              "      <td>ID_VJ80SX2 x m1</td>\n",
              "      <td>962.031250</td>\n",
              "    </tr>\n",
              "    <tr>\n",
              "      <th>7</th>\n",
              "      <td>ID_VJ80SX2 x m2</td>\n",
              "      <td>939.321106</td>\n",
              "    </tr>\n",
              "    <tr>\n",
              "      <th>8</th>\n",
              "      <td>ID_VJ80SX2 x m3</td>\n",
              "      <td>897.650818</td>\n",
              "    </tr>\n",
              "    <tr>\n",
              "      <th>9</th>\n",
              "      <td>ID_VJ80SX2 x m4</td>\n",
              "      <td>940.213501</td>\n",
              "    </tr>\n",
              "    <tr>\n",
              "      <th>10</th>\n",
              "      <td>ID_VJ80SX2 x m5</td>\n",
              "      <td>927.538391</td>\n",
              "    </tr>\n",
              "    <tr>\n",
              "      <th>11</th>\n",
              "      <td>ID_VJ80SX2 x m6</td>\n",
              "      <td>812.100464</td>\n",
              "    </tr>\n",
              "  </tbody>\n",
              "</table>\n",
              "</div>\n",
              "      <button class=\"colab-df-convert\" onclick=\"convertToInteractive('df-ecdf85a3-4ced-421b-8102-0b17c077716a')\"\n",
              "              title=\"Convert this dataframe to an interactive table.\"\n",
              "              style=\"display:none;\">\n",
              "        \n",
              "  <svg xmlns=\"http://www.w3.org/2000/svg\" height=\"24px\"viewBox=\"0 0 24 24\"\n",
              "       width=\"24px\">\n",
              "    <path d=\"M0 0h24v24H0V0z\" fill=\"none\"/>\n",
              "    <path d=\"M18.56 5.44l.94 2.06.94-2.06 2.06-.94-2.06-.94-.94-2.06-.94 2.06-2.06.94zm-11 1L8.5 8.5l.94-2.06 2.06-.94-2.06-.94L8.5 2.5l-.94 2.06-2.06.94zm10 10l.94 2.06.94-2.06 2.06-.94-2.06-.94-.94-2.06-.94 2.06-2.06.94z\"/><path d=\"M17.41 7.96l-1.37-1.37c-.4-.4-.92-.59-1.43-.59-.52 0-1.04.2-1.43.59L10.3 9.45l-7.72 7.72c-.78.78-.78 2.05 0 2.83L4 21.41c.39.39.9.59 1.41.59.51 0 1.02-.2 1.41-.59l7.78-7.78 2.81-2.81c.8-.78.8-2.07 0-2.86zM5.41 20L4 18.59l7.72-7.72 1.47 1.35L5.41 20z\"/>\n",
              "  </svg>\n",
              "      </button>\n",
              "      \n",
              "  <style>\n",
              "    .colab-df-container {\n",
              "      display:flex;\n",
              "      flex-wrap:wrap;\n",
              "      gap: 12px;\n",
              "    }\n",
              "\n",
              "    .colab-df-convert {\n",
              "      background-color: #E8F0FE;\n",
              "      border: none;\n",
              "      border-radius: 50%;\n",
              "      cursor: pointer;\n",
              "      display: none;\n",
              "      fill: #1967D2;\n",
              "      height: 32px;\n",
              "      padding: 0 0 0 0;\n",
              "      width: 32px;\n",
              "    }\n",
              "\n",
              "    .colab-df-convert:hover {\n",
              "      background-color: #E2EBFA;\n",
              "      box-shadow: 0px 1px 2px rgba(60, 64, 67, 0.3), 0px 1px 3px 1px rgba(60, 64, 67, 0.15);\n",
              "      fill: #174EA6;\n",
              "    }\n",
              "\n",
              "    [theme=dark] .colab-df-convert {\n",
              "      background-color: #3B4455;\n",
              "      fill: #D2E3FC;\n",
              "    }\n",
              "\n",
              "    [theme=dark] .colab-df-convert:hover {\n",
              "      background-color: #434B5C;\n",
              "      box-shadow: 0px 1px 3px 1px rgba(0, 0, 0, 0.15);\n",
              "      filter: drop-shadow(0px 1px 2px rgba(0, 0, 0, 0.3));\n",
              "      fill: #FFFFFF;\n",
              "    }\n",
              "  </style>\n",
              "\n",
              "      <script>\n",
              "        const buttonEl =\n",
              "          document.querySelector('#df-ecdf85a3-4ced-421b-8102-0b17c077716a button.colab-df-convert');\n",
              "        buttonEl.style.display =\n",
              "          google.colab.kernel.accessAllowed ? 'block' : 'none';\n",
              "\n",
              "        async function convertToInteractive(key) {\n",
              "          const element = document.querySelector('#df-ecdf85a3-4ced-421b-8102-0b17c077716a');\n",
              "          const dataTable =\n",
              "            await google.colab.kernel.invokeFunction('convertToInteractive',\n",
              "                                                     [key], {});\n",
              "          if (!dataTable) return;\n",
              "\n",
              "          const docLinkHtml = 'Like what you see? Visit the ' +\n",
              "            '<a target=\"_blank\" href=https://colab.research.google.com/notebooks/data_table.ipynb>data table notebook</a>'\n",
              "            + ' to learn more about interactive tables.';\n",
              "          element.innerHTML = '';\n",
              "          dataTable['output_type'] = 'display_data';\n",
              "          await google.colab.output.renderOutput(dataTable, element);\n",
              "          const docLink = document.createElement('div');\n",
              "          docLink.innerHTML = docLinkHtml;\n",
              "          element.appendChild(docLink);\n",
              "        }\n",
              "      </script>\n",
              "    </div>\n",
              "  </div>\n",
              "  "
            ]
          },
          "metadata": {},
          "execution_count": 72
        }
      ]
    },
    {
      "cell_type": "code",
      "source": [
        "ss.to_csv('Ambassador_zindi_sub5.csv', index=False) "
      ],
      "metadata": {
        "execution": {
          "iopub.status.busy": "2023-05-30T08:17:09.722044Z",
          "iopub.execute_input": "2023-05-30T08:17:09.722396Z",
          "iopub.status.idle": "2023-05-30T08:17:09.896135Z",
          "shell.execute_reply.started": "2023-05-30T08:17:09.722368Z",
          "shell.execute_reply": "2023-05-30T08:17:09.895224Z"
        },
        "trusted": true,
        "id": "sCijip_6wJwl"
      },
      "execution_count": 73,
      "outputs": [],
      "id": "sCijip_6wJwl"
    },
    {
      "cell_type": "code",
      "source": [
        "#ss.to_csv('Ambassador_zindi_sub3.csv', index=False) "
      ],
      "metadata": {
        "execution": {
          "iopub.status.busy": "2023-05-27T11:58:38.254186Z",
          "iopub.execute_input": "2023-05-27T11:58:38.254537Z",
          "iopub.status.idle": "2023-05-27T11:58:38.429542Z",
          "shell.execute_reply.started": "2023-05-27T11:58:38.254509Z",
          "shell.execute_reply": "2023-05-27T11:58:38.428550Z"
        },
        "trusted": true,
        "id": "93c_XbEfwJwl"
      },
      "execution_count": null,
      "outputs": [],
      "id": "93c_XbEfwJwl"
    },
    {
      "cell_type": "markdown",
      "source": [
        "### some insights\n",
        "\n",
        "1. !!! You must then build a machine learning model that returns the expected future payments for `n` months ahead !!! (Make sure one will be able to predict for more steps with your model and `set n=6 for this competition`)⚠️\n",
        "\n",
        "2. Building a loan status predictor is highly recommended (likelihood of being a good/bad payer)✅\n",
        "\n",
        "3. gradient boosting? random forest? reccurent net? even use an ensemble of many models. be creative 💡!\n",
        "\n",
        "4. Cross validation ? why not 🤷🏾‍♂️\n",
        "\n",
        "5. You can even try a Seq2Seq model : [resource](https://awaywithideas.com/keras-implementation-of-a-sequence-to-sequence-model-for-time-series-prediction-using-an-encoder-decoder-architecture/)"
      ],
      "metadata": {
        "id": "MXtkTDzHwJwm"
      },
      "id": "MXtkTDzHwJwm"
    }
  ]
}